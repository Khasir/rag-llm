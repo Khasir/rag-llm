{
 "cells": [
  {
   "cell_type": "markdown",
   "metadata": {},
   "source": [
    "# Initialize"
   ]
  },
  {
   "cell_type": "code",
   "execution_count": 1,
   "metadata": {},
   "outputs": [
    {
     "name": "stderr",
     "output_type": "stream",
     "text": [
      "/Users/kaz/repos/sophia/.venv/lib/python3.10/site-packages/tqdm/auto.py:21: TqdmWarning: IProgress not found. Please update jupyter and ipywidgets. See https://ipywidgets.readthedocs.io/en/stable/user_install.html\n",
      "  from .autonotebook import tqdm as notebook_tqdm\n"
     ]
    }
   ],
   "source": [
    "import json\n",
    "import os\n",
    "import random\n",
    "\n",
    "import chromadb\n",
    "import dotenv\n",
    "import fireworks.client\n",
    "import pandas as pd\n",
    "from bs4 import BeautifulSoup\n",
    "from sentence_transformers import SentenceTransformer\n",
    "from tqdm.auto import tqdm\n",
    "\n",
    "config = dotenv.dotenv_values(\".env\")\n",
    "\n",
    "fireworks.client.api_key = config['FIREWORKS_API_KEY']"
   ]
  },
  {
   "cell_type": "code",
   "execution_count": 2,
   "metadata": {},
   "outputs": [],
   "source": [
    "def get_completion(prompt, model=None, **kwargs):\n",
    "\n",
    "    fw_model_dir = \"accounts/fireworks/models/\"\n",
    "\n",
    "    if model is None:\n",
    "        model = fw_model_dir + \"llama-v2-7b\"\n",
    "    else:\n",
    "        model = fw_model_dir + model\n",
    "\n",
    "    completion = fireworks.client.Completion.create(\n",
    "        model=model,\n",
    "        prompt=prompt,\n",
    "        **kwargs\n",
    "    )\n",
    "\n",
    "    return completion.choices[0].text"
   ]
  },
  {
   "cell_type": "code",
   "execution_count": 3,
   "metadata": {},
   "outputs": [
    {
     "data": {
      "text/plain": [
       "' I’m back!\\nI’ve been away for a while, but'"
      ]
     },
     "execution_count": 3,
     "metadata": {},
     "output_type": "execute_result"
    }
   ],
   "source": [
    "get_completion(\"Hello, world!\", temperature=0.1)"
   ]
  },
  {
   "cell_type": "markdown",
   "metadata": {},
   "source": [
    "# Gather documents"
   ]
  },
  {
   "cell_type": "code",
   "execution_count": 37,
   "metadata": {},
   "outputs": [
    {
     "name": "stdout",
     "output_type": "stream",
     "text": [
      "[{'summary_text': 'BART (large-sized model), fine-tuned on CNN Daily Mail, a large collection of text-summary pairs.BART model pre-trained on American language, and fine-tuneed on English language. It was introduced in the paper BART: Denoising Sequence-to-Sequence Pre-training for Natural Language Generation, Translation, and Comprehension by Lewis et al. and first released in [this repository (https://github.com/pytorch/fairseq/tree/master/examples/bart).]BART is a large-sized, high-resolution model with a'}]\n"
     ]
    }
   ],
   "source": [
    "# Import summarizer\n",
    "# from transformers import AutoTokenizer\n",
    "from transformers import pipeline\n",
    "\n",
    "# checkpoint = \"google-t5/t5-small\"\n",
    "# tokenizer = AutoTokenizer.from_pretrained(checkpoint)\n",
    "summarizer = pipeline(\"summarization\", model=\"facebook/bart-base\")  # bart-large-cnn\n",
    "temp_doc = \"\"\"BART (large-sized model), fine-tuned on CNN Daily Mail\n",
    "\n",
    "BART model pre-trained on English language, and fine-tuned on CNN Daily Mail. It was introduced in the paper BART: Denoising Sequence-to-Sequence Pre-training for Natural Language Generation, Translation, and Comprehension by Lewis et al. and first released in [this repository (https://github.com/pytorch/fairseq/tree/master/examples/bart).\n",
    "\n",
    "Disclaimer: The team releasing BART did not write a model card for this model so this model card has been written by the Hugging Face team.\n",
    "Model description\n",
    "\n",
    "BART is a transformer encoder-encoder (seq2seq) model with a bidirectional (BERT-like) encoder and an autoregressive (GPT-like) decoder. BART is pre-trained by (1) corrupting text with an arbitrary noising function, and (2) learning a model to reconstruct the original text.\n",
    "\n",
    "BART is particularly effective when fine-tuned for text generation (e.g. summarization, translation) but also works well for comprehension tasks (e.g. text classification, question answering). This particular checkpoint has been fine-tuned on CNN Daily Mail, a large collection of text-summary pairs.\"\"\"\n",
    "print(summarizer(temp_doc, max_length=130, min_length=30, do_sample=False))"
   ]
  },
  {
   "cell_type": "code",
   "execution_count": 38,
   "metadata": {},
   "outputs": [
    {
     "name": "stderr",
     "output_type": "stream",
     "text": [
      "  1%|          | 1/172 [00:07<21:46,  7.64s/it]"
     ]
    },
    {
     "name": "stdout",
     "output_type": "stream",
     "text": [
      "[{'summary_text': 'The Liberals have championed a flat fare of $1 and monthly passes capped at $40 for all transit until 2024.The Green Party has committed to slashing fares in half for at least three months. The NDP has pledged to expanding a TTC discount (known as the Fair Pass program) to all low-income workers.Scarborough does not end at McCowan Road, but current funded rapid transit plans stop there. As residents of northeastern Scarborough and Durham, we know how hard it is to get around the east end of Scarborough. The Eglinton East Light Rail Transit line would connect Kennedy Station to the University of Toronto Scarborough Campus and end in Malvern, unlocking better access to education and connecting underserved Neighbourhood Improvement Areas. Toronto'}]\n"
     ]
    },
    {
     "name": "stderr",
     "output_type": "stream",
     "text": [
      "\n"
     ]
    }
   ],
   "source": [
    "root_folder = \"/Users/kaz/repos/toronto-com-ttcriders-archive/scraper/output/toronto.com\"\n",
    "documents = os.listdir(root_folder)\n",
    "results = []\n",
    "for document in tqdm(documents):\n",
    "    if not document.endswith('.html'):\n",
    "        continue\n",
    "    document = {\n",
    "        'filename': os.path.join(root_folder, document),\n",
    "        'body': '',\n",
    "        'title': '',\n",
    "    }\n",
    "    with open(document['filename'], 'r', encoding='utf-8') as file:\n",
    "        soup = BeautifulSoup(file.read(), 'html.parser')\n",
    "        document['title'] = soup.title.string.strip()\n",
    "        document['body'] = soup.body.get_text().strip()\n",
    "        document['summary'] = summarizer(document['body'][5000:6024], max_length=150, min_length=30, do_sample=True)\n",
    "    results.append(document)\n",
    "    # break\n",
    "# print(results[0]['summary'])\n",
    "documents = results"
   ]
  },
  {
   "cell_type": "code",
   "execution_count": 4,
   "metadata": {},
   "outputs": [
    {
     "data": {
      "text/plain": [
       "{'filename': '/Users/kaz/repos/toronto-com-ttcriders-archive/scraper/output/toronto.com/ward-42-kingsley-kwok-says-area-needs-better-and-faster-ttc-service.html',\n",
       " 'body': 'Skip to main content\\n\\n\\n\\n\\n\\n\\n\\n\\nYou have permission to edit this article.\\n\\n Edit\\nClose\\n\\n\\n\\n\\n\\n\\n\\n\\nToronto.com\\n\\n\\n\\nHome\\n\\n\\n\\n\\n\\nNews\\n\\n\\nBusiness\\n\\nCouncil\\n\\nCrime\\n\\nMunicipal Election\\n\\nProvincial Election\\n\\nFederal Election\\n\\nBloor West - Parkdale\\n\\nBeach - East York\\n\\nEtobicoke\\n\\nNorth York\\n\\nScarborough\\n\\nYork - City Centre\\n\\nTopics\\n\\n\\n\\n\\nEvents\\n\\n\\nArts\\n\\nAttractions\\n\\nCommunity\\n\\nFestivals and Fairs\\n\\nMusic\\n\\nSeasonal\\n\\nShows and Expos\\n\\nSports\\n\\n\\n\\n\\nThings to Do\\n\\n\\nBooks And Authors\\n\\nContests\\n\\nFood And Drink\\n\\n\\n\\n\\nOpinion\\n\\n\\nAdvice\\n\\nColumns\\n\\nCommunity Voices\\n\\nEditorial\\n\\nLetters\\n\\n\\n\\n\\nLife\\n\\n\\nFashion And Beauty\\n\\nObituaries\\n\\nPersonal Finance\\n\\nReal Estate\\n\\nTravel\\n\\nWellness\\n\\nWheels\\n\\n\\n\\n\\nSpecial Features\\n\\n\\nMarketplace\\n\\nReaders\\' Choice Awards\\n\\nSponsored and Partners\\n\\nClassifieds\\n\\n\\n\\n\\n\\n\\n\\n\\n\\n\\n\\n\\n\\nSite search\\n\\n\\n\\n\\nSearch\\n\\n\\n\\n\\n\\n\\n\\n\\n\\n\\n\\n\\n\\n\\n\\n\\n\\n\\n\\n\\n\\n\\n\\n\\n\\n\\n\\n\\n\\n\\n\\n\\n\\n13°C\\n\\n\\n\\n\\n\\nTuesday, September 19, 2023\\n\\n\\n\\n\\n\\n\\n\\n\\nFacebook\\n\\n\\n\\n\\n\\nTwitter\\n\\n\\n\\n\\n\\nInstagram\\n\\n\\n\\n\\n\\n\\n\\n\\n\\n\\n\\n\\n\\n\\n\\n\\n\\nMenu\\n\\n\\n\\n\\n\\n\\n\\n\\n\\n\\n\\n\\n\\n\\n Toronto.com\\n\\n\\n Home\\n\\n\\nNews\\n\\n\\nBusiness\\n\\n\\nCouncil\\n\\n\\nCrime\\n\\n\\nMunicipal Election\\n\\n\\nProvincial Election\\n\\n\\nFederal Election\\n\\n\\nBloor West - Parkdale\\n\\n\\nBeach - East York\\n\\n\\nEtobicoke\\n\\n\\nNorth York\\n\\n\\nScarborough\\n\\n\\nYork - City Centre\\n\\n\\nTopics\\n\\n\\nEvents\\n\\n\\nArts\\n\\n\\nAttractions\\n\\n\\nCommunity\\n\\n\\nFestivals and Fairs\\n\\n\\nMusic\\n\\n\\nSeasonal\\n\\n\\nShows and Expos\\n\\n\\nSports\\n\\n\\nThings to Do\\n\\n\\nBooks And Authors\\n\\n\\nContests\\n\\n\\nFood And Drink\\n\\n\\nOpinion\\n\\n\\nAdvice\\n\\n\\nColumns\\n\\n\\nCommunity Voices\\n\\n\\nEditorial\\n\\n\\nLetters\\n\\n\\nLife\\n\\n\\nFashion And Beauty\\n\\n\\nObituaries\\n\\n\\nPersonal Finance\\n\\n\\nReal Estate\\n\\n\\nTravel\\n\\n\\nWellness\\n\\n\\nWheels\\n\\n\\nSpecial Features\\n\\n\\nMarketplace\\n\\n\\nReaders\\' Choice Awards\\n\\n\\nSponsored and Partners\\n\\n\\nClassifieds\\n\\n\\n\\n\\n\\nShare This \\n\\n\\n\\n\\n\\nFacebook\\n\\n\\n\\n\\n\\n\\nTwitter\\n\\n\\n\\n\\n\\n\\nWhatsApp\\n\\n\\n\\n\\n\\n\\nSMS\\n\\n\\n\\n\\n\\n\\nEmail\\n\\n\\n\\n\\n\\n\\n\\n\\n\\n\\n\\n\\n\\n\\n\\n\\n\\n\\n\\n\\n\\n\\n\\n\\n\\n\\n\\n\\n\\n\\n\\n\\n\\n\\n\\n\\n\\n\\n\\n\\n\\n\\n\\n\\n\\nWARD 42: Kingsley Kwok says area needs better and faster TTC service\\n\\n\\nCandidate adds his ward was \"badly let down\" by politicians\\n\\n\\n\\nBy Scarborough Mirror\\n\\n\\n            Jan 31, 2017\\n        \\nJan 31, 2017\\nUpdated \\nMar 13, 2023\\n\\n\\n\\n\\n\\n\\n\\n\\n\\n\\n\\n\\n\\nFacebook\\n\\n\\n\\n\\n\\n\\nTwitter\\n\\n\\n\\n\\n\\n\\nWhatsApp\\n\\n\\n\\n\\n\\n\\nSMS\\n\\n\\n\\n\\n\\n\\nEmail\\n\\n\\n\\n\\n\\n\\n\\n\\n\\n\\n\\n\\n\\n\\n\\n\\n\\n\\n\\n\\n\\n\\nKingsley Kwok - Submitted photo\\n\\n\\nBy Submitted photo\\n\\n\\n\\n\\n\\n\\n\\n\\n\\n\\n\\n\\n\\nFacebook\\n\\n\\n\\n\\n\\n\\nTwitter\\n\\n\\n\\n\\n\\n\\nWhatsApp\\n\\n\\n\\n\\n\\n\\nSMS\\n\\n\\n\\n\\n\\n\\nEmail\\n\\n\\n\\n\\n\\n\\nPrint\\n\\n\\n\\n\\n\\n\\nCopy article link\\n\\n\\n\\n\\n\\n\\nSave\\n\\n\\n\\n\\n\\n\\n\\n\\n\\n\\n\\n\\n\\n\\n\\n\\n\\n\\n\\nFacebook\\n\\n\\n\\n\\n\\n\\nTwitter\\n\\n\\n\\n\\n\\n\\nWhatsApp\\n\\n\\n\\n\\n\\n\\nSMS\\n\\n\\n\\n\\n\\n\\nEmail\\n\\n\\n\\n\\n\\n\\nPrint\\n\\n\\n\\n\\n\\n\\nCopy article link\\n\\n\\n\\n\\n\\n\\nSave\\n\\n\\n\\n\\n\\n\\n\\n\\n\\n\\n\\n\\n\\n\\n\\n1.) Explain why you are the best candidate to represent Ward 42KINGSLEY KWOK: Professionally I work as a respiratory therapist at Scarborough General Hospital, and have spent most of my career saving lives. As an activist I’ve spent a number of years advocating on the issues that matter most to my neighbours as a member of Scarborough Transit Action, TTCriders and the Ontario Health Coalition.Ward 42 has been badly let down for a number of years by career politicians and city hall insiders, who simply haven’t be able to get the job done for our area. It’s time that we elect someone who sees representing Ward 42 at City Council as a community service to be taken seriously, not as a career stepping stone.2.) Knowing the City of Toronto has no plans or money to extend a subway to the area, how would you improve public transit service for residents?KWOK: For all the election sloganeering of subways for Scarborough, none of the proposed alignments actually reach Ward 42. I’m in favour of the SmartSpur plan to electrify GO lines and connect Malvern to Centennial Progress Campus and Ellesmere GO, and the Sheppard East LRT to alleviate congestion and connect us to the subway network.We’ve had six fare hikes in six years, so it’s astonishing that City Council is looking to cut service on bus routes in the ward like the 85 Sheppard East and 133 Neilson which are already overcrowded. Our ward needs faster service, more frequent service, and we need TTC funding that is fair. I’m in favour of implementing the low income “fair fare” as soon as possible, and would like to see lost revenue from malfunctioning Presto card readers recovered from Metrolinx.3.) What do you consider the ward’s most important municipal issue, and how would you address it?KWOK: While transit remains the headline issue for residents, lots of people I’m speaking with are concerned about planned cuts to city services of 2.6 per cent this year. Childcare in the ward is becoming more expensive, and the hours at our local libraries and community centres are being scaled back.Talk of privatizing city services like Toronto Hydro and garbage pickup shows a lack of long term thinking, and will mean residents in my ward getting a worse deal down the line. Just look at what’s happened with Hydro One and the cost of our energy bills. It’s true that the city faces serious budget challenges, so I’ll work to protect frontline services from cuts by scrapping wasteful schemes such as the tax rebate for vacant businesses, saving $22 million a year.4.) What have you done in the past for people who live in Scarborough-Rouge River?KWOK: As a respiratory therapist working in Emergency, Intensive Care and Operating Rooms at Scarborough General for the past 13 years, there’s a good chance that you or someone you know has been under my care when critically ill.Outside of my work I’ve been involved with campaigns such as Save Our Services in\\xa0Scarborough\\xa0hospitals, Keep Hydro Public and Hydro One Not For Sale. As part of the Equity committee of Toronto and York Regional Labour Council, I’ve been a part of the Fight For $15 minimum wage campaign and spoken out against racism in the workplace.\\n\\n\\n\\n\\n\\n\\n\\nFacebook\\n\\n\\n\\n\\n\\n\\nTwitter\\n\\n\\n\\n\\n\\n\\nWhatsApp\\n\\n\\n\\n\\n\\n\\nSMS\\n\\n\\n\\n\\n\\n\\nEmail\\n\\n\\n\\n\\n\\n\\nPrint\\n\\n\\n\\n\\n\\n\\nCopy article link\\n\\n\\n\\n\\n\\n\\nSave\\n\\n\\n\\n\\n\\n\\n\\n\\n\\n\\n\\n\\n\\n\\n\\n\\nTags\\n\\nToronto_scarborough\\n \\nOntario\\n \\n\\n\\nLocations\\n\\nScarborough\\n \\n\\n\\n\\nReport an error\\n\\n\\nJournalistic Standards\\n\\n\\n\\n\\n\\n\\n\\n\\n                \\n                You might be interested in\\n                \\n            \\n\\n\\n\\n\\n\\n\\n\\n\\n\\n\\n\\n\\n\\n\\n\\n\\n\\n\\n\\nThings To Do\\n\\n\\n\\n\\n        \\n\\n        \\n            Things to do in Toronto Sept. 19 to 24, 2023\\n\\nUpdated \\n7 hrs ago\\n\\n\\n\\n\\n\\n\\n\\n\\n\\n\\n\\n\\n\\n\\n\\n\\n\\n\\n\\n\\n\\n\\n\\nScarborough\\n\\n\\n\\n\\n        \\n\\n        \\n            SCARBOROUGH: here’s what’s going on, Sept. 19 to Oct. 1, 2023\\n\\nUpdated \\n6 hrs ago\\n\\n\\n\\n\\n\\n\\n\\n\\n\\n\\n\\n\\n\\n\\n\\n\\n\\n\\n\\n\\n\\n\\n\\nNorth York\\n\\n\\n\\n\\n        \\n\\n        \\n            NORTH YORK: here’s what’s going on, Sept. 19 to Oct. 1, 2023\\n\\nUpdated \\n8 hrs ago\\n\\n\\n\\n\\n\\n\\n\\n\\n\\n\\n\\n\\n.\\n\\n\\n\\n\\n                \\n                Top Stories\\n                \\n            \\n\\n\\n\\n\\n\\n\\n\\n\\n\\n\\n\\n\\n\\n\\n\\n\\n\\n\\n\\n\\n\\nScarborough\\n\\n\\n\\n\\n        \\n\\n        \\n            SCARBOROUGH: here’s what’s going on, Sept. 19 to Oct. 1, 2023\\n\\nUpdated \\n6 hrs ago\\n\\n\\n\\nEvents include Scarborough Players\\' theatre, fall fest, harvest festival, art fundraiser\\n\\n\\n\\n\\n\\n\\n\\n\\n\\n\\n\\n\\n\\n\\n\\n\\n\\n\\n\\n\\n\\n\\n\\n\\nNorth York\\n\\n\\n\\n\\n        \\n\\n        \\n            NORTH YORK: here’s what’s going on, Sept. 19 to Oct. 1, 2023\\n\\nUpdated \\n8 hrs ago\\n\\n\\n\\n\\n\\n\\n\\n\\n\\n\\n\\n\\n\\n\\n\\n\\n\\n\\n\\n\\n\\nEtobicoke\\n\\n\\n\\n\\n        \\n\\n        \\n            ETOBICOKE: here’s what’s going on, Sept. 19 to Oct. 1, 2023\\n\\nUpdated \\n6 hrs ago\\n\\n\\n\\n\\n\\n\\n\\n\\n\\n\\n\\n\\n\\n\\n\\n\\n\\n\\n\\n\\n\\nNews\\n\\n\\n\\n\\n        \\n\\n        \\n            Year-long Toronto Public Library initiative explores intellectual freedom challenges\\n\\nUpdated \\n9 hrs ago\\n\\n\\n\\n\\n\\n\\n\\n\\n\\n\\n\\n\\n\\n\\n\\n\\n\\n\\n\\n\\n\\nNews\\n\\n\\n\\n\\n        \\n\\n        \\n            Elementary Teachers’ Federation of Ontario\\'s 83K members gathering for strike votes\\n\\nUpdated \\n11 hrs ago\\n\\n\\n\\n\\n\\n\\n\\n\\n\\n\\n\\n\\n\\n\\n\\n\\n\\n\\n\\n\\n\\n\\n\\n\\n\\n\\n\\n\\n\\n\\n\\n\\n\\n\\n\\n\\n\\n\\n\\n\\n\\n\\n\\n\\n\\n\\n\\n\\n\\n\\n                \\n                Helpful Links\\n                \\n            \\n\\n\\n\\nClassifieds\\n\\n\\nDigital Editions\\n\\n\\nMarketplace\\n\\n\\nObituaries\\n\\n\\nSitemap\\n\\n\\nToronto.com Readers Choice\\n\\n\\nMetroland Gives Back\\n\\n\\nWalk-In Clinics\\n\\n\\nMetroland Store\\n\\n\\n\\n\\n\\n                \\n                Connect with us\\n                \\n            \\n\\n\\n\\nAbout Us\\n\\n\\nBecome a Carrier\\n\\n\\nContact Us\\n\\n\\nDelivery Concerns\\n\\n\\nNewsletter Signup\\n\\n\\nFeedback\\n\\n\\nSubmit a Letter\\n\\n\\nSubmit Multimedia\\n\\n\\n\\n\\nContact Information\\n\\n\\n\\nPhone: 1-833-440-7474\\nEmail: newsroom@toronto.com\\n\\n\\n\\n\\n\\n\\n                \\n                Follow Us\\n                \\n            \\n\\n\\n\\n\\n\\nFacebook\\n\\n\\n\\n\\n\\nTwitter\\n\\n\\n\\n\\n\\nInstagram\\n\\n\\n\\n\\n\\n\\n\\n\\n\\n\\n\\n\\n\\n×\\nBrowser Compatibility\\n\\n\\nYour browser is out of date and potentially vulnerable to security risks.We recommend switching to one of the following browsers:\\n\\nMicrosoft Edge\\nGoogle Chrome\\nFirefox\\n\\n\\n\\n\\n\\n\\n\\n\\n\\nCopyright 2023 Toronto Star Newspapers Limited. All Rights Reserved. 8 Spadina Avenue, 10th floor, Toronto, ON M5V 0S8\\nCorporate Privacy Policy | Terms of Use | Advertising Terms | Accessibility',\n",
       " 'title': 'WARD 42: Kingsley Kwok says area needs better and faster TTC service | Life | toronto.com'}"
      ]
     },
     "execution_count": 4,
     "metadata": {},
     "output_type": "execute_result"
    }
   ],
   "source": [
    "documents[12]"
   ]
  },
  {
   "cell_type": "code",
   "execution_count": 5,
   "metadata": {},
   "outputs": [],
   "source": [
    "embedding_model = SentenceTransformer('all-MiniLM-L6-v2')\n",
    "\n",
    "# class EmbedDocuments(chromadb.EmbeddingFunction):\n",
    "#     def __call__(self, input: chromadb.Documents) -> chromadb.Embeddings:\n",
    "#         batch_embeddings = embedding_model.encode(input)\n",
    "#         return batch_embeddings.tolist()\n",
    "\n",
    "chroma_client = chromadb.PersistentClient(path=\"./chromadb\")\n",
    "collection = chroma_client.get_or_create_collection(\n",
    "    name=f\"24-04-02-local-document-experiment\"\n",
    ")"
   ]
  },
  {
   "cell_type": "code",
   "execution_count": 6,
   "metadata": {},
   "outputs": [
    {
     "name": "stderr",
     "output_type": "stream",
     "text": [
      "100%|██████████| 9/9 [00:05<00:00,  1.52it/s]\n"
     ]
    }
   ],
   "source": [
    "# Generate embeddings, and index file contents in batches\n",
    "batch_size = 10\n",
    "\n",
    "# Loop through batches\n",
    "for i in tqdm(range(0, len(documents), batch_size)):\n",
    "\n",
    "    i_end = min(i + batch_size, len(documents))\n",
    "    batch = documents[i : i + batch_size]\n",
    "\n",
    "    # Prepare batch\n",
    "    batch_titles = [doc['title'] for doc in batch]\n",
    "    batch_ids = [str(sum(ord(c) + random.randint(1, 10000) for c in doc[\"title\"])) for doc in batch]\n",
    "    batch_metadata = [\n",
    "        {\n",
    "            \"filename\": doc['filename'],\n",
    "            \"body\": doc['body']\n",
    "        }\n",
    "        for doc in batch\n",
    "    ]\n",
    "    batch_embeddings = embedding_model.encode([f\"{doc['title']} {doc['body']}\" for doc in batch])\n",
    "\n",
    "    # Upsert to ChromaDB\n",
    "    collection.upsert(\n",
    "        ids=batch_ids,\n",
    "        metadatas=batch_metadata,\n",
    "        documents=batch_titles,\n",
    "        embeddings=batch_embeddings.tolist(),\n",
    "    )"
   ]
  },
  {
   "cell_type": "code",
   "execution_count": 7,
   "metadata": {},
   "outputs": [
    {
     "data": {
      "text/plain": [
       "[[\"Ride the 'COVID-19 East'? Group calls crowded Scarborough buses a hazard | News | toronto.com\",\n",
       "  'Transit workers union vows to fight TTC vaccine mandate | News | toronto.com',\n",
       "  'TTC says it’s losing about $18 million a week in fares, will need bailout over coronavirus ridership crash | News | toronto.com',\n",
       "  \"Scarborough transit users bring 'COVID-19' bus to MPP's office | News | toronto.com\",\n",
       "  \"Olivia Chow just couldn't be stopped this time: Analysis | News | toronto.com\"]]"
      ]
     },
     "execution_count": 7,
     "metadata": {},
     "output_type": "execute_result"
    }
   ],
   "source": [
    "# user query\n",
    "user_query = \"virus coronavirus pandemic\"\n",
    "\n",
    "# query for user query\n",
    "results = collection.query(\n",
    "    query_texts=[user_query],\n",
    "    n_results=5,\n",
    ")\n",
    "\n",
    "results['documents']"
   ]
  },
  {
   "cell_type": "code",
   "execution_count": 8,
   "metadata": {},
   "outputs": [
    {
     "data": {
      "text/plain": [
       "[[{'body': \"Skip to main content\\n\\n\\n\\n\\n\\n\\n\\n\\nYou are the owner of this article.\\n\\n Edit Article\\n Add New Article\\nClose\\n\\n\\n\\nYou have permission to edit this article.\\n\\n Edit\\nClose\\n\\n\\n\\n\\n\\n\\n\\n\\nToronto.com\\n\\n\\n\\nHome\\n\\n\\n\\n\\n\\nNews\\n\\n\\nBusiness\\n\\nCouncil\\n\\nCrime\\n\\nMunicipal Election\\n\\nProvincial Election\\n\\nFederal Election\\n\\nBloor West - Parkdale\\n\\nBeach - East York\\n\\nEtobicoke\\n\\nNorth York\\n\\nScarborough\\n\\nYork - City Centre\\n\\nTopics\\n\\n\\n\\n\\nEvents\\n\\n\\nArts\\n\\nAttractions\\n\\nCommunity\\n\\nFestivals and Fairs\\n\\nMusic\\n\\nSeasonal\\n\\nShows and Expos\\n\\nSports\\n\\n\\n\\n\\nThings to Do\\n\\n\\nBooks And Authors\\n\\nContests\\n\\nFood And Drink\\n\\n\\n\\n\\nOpinion\\n\\n\\nAdvice\\n\\nColumns\\n\\nCommunity Voices\\n\\nEditorial\\n\\nLetters\\n\\n\\n\\n\\nLife\\n\\n\\nFashion And Beauty\\n\\nObituaries\\n\\nPersonal Finance\\n\\nReal Estate\\n\\nTravel\\n\\nWellness\\n\\nWheels\\n\\n\\n\\n\\nSpecial Features\\n\\n\\nMarketplace\\n\\nReaders' Choice Awards\\n\\nSponsored and Partners\\n\\nClassifieds\\n\\n\\n\\n\\n\\n\\n\\n\\n\\n\\n\\n\\n\\nSite search\\n\\n\\n\\n\\nSearch\\n\\n\\n\\n\\n\\n\\n\\n\\n\\n\\n\\n\\n\\n\\n\\n\\n\\n\\n\\n\\n\\n\\n\\n\\n\\n\\n\\n\\n\\n\\n\\n\\n\\n13°C\\n\\n\\n\\n\\n\\nTuesday, September 19, 2023\\n\\n\\n\\n\\n\\n\\n\\n\\nFacebook\\n\\n\\n\\n\\n\\nTwitter\\n\\n\\n\\n\\n\\nInstagram\\n\\n\\n\\n\\n\\n\\n\\n\\n\\n\\n\\n\\n\\n\\n\\n\\n\\nMenu\\n\\n\\n\\n\\n\\n\\n\\n\\n\\n\\n\\n\\n\\n\\n Toronto.com\\n\\n\\n Home\\n\\n\\nNews\\n\\n\\nBusiness\\n\\n\\nCouncil\\n\\n\\nCrime\\n\\n\\nMunicipal Election\\n\\n\\nProvincial Election\\n\\n\\nFederal Election\\n\\n\\nBloor West - Parkdale\\n\\n\\nBeach - East York\\n\\n\\nEtobicoke\\n\\n\\nNorth York\\n\\n\\nScarborough\\n\\n\\nYork - City Centre\\n\\n\\nTopics\\n\\n\\nEvents\\n\\n\\nArts\\n\\n\\nAttractions\\n\\n\\nCommunity\\n\\n\\nFestivals and Fairs\\n\\n\\nMusic\\n\\n\\nSeasonal\\n\\n\\nShows and Expos\\n\\n\\nSports\\n\\n\\nThings to Do\\n\\n\\nBooks And Authors\\n\\n\\nContests\\n\\n\\nFood And Drink\\n\\n\\nOpinion\\n\\n\\nAdvice\\n\\n\\nColumns\\n\\n\\nCommunity Voices\\n\\n\\nEditorial\\n\\n\\nLetters\\n\\n\\nLife\\n\\n\\nFashion And Beauty\\n\\n\\nObituaries\\n\\n\\nPersonal Finance\\n\\n\\nReal Estate\\n\\n\\nTravel\\n\\n\\nWellness\\n\\n\\nWheels\\n\\n\\nSpecial Features\\n\\n\\nMarketplace\\n\\n\\nReaders' Choice Awards\\n\\n\\nSponsored and Partners\\n\\n\\nClassifieds\\n\\n\\n\\n\\n\\nShare This \\n\\n\\n\\n\\n\\nFacebook\\n\\n\\n\\n\\n\\n\\nTwitter\\n\\n\\n\\n\\n\\n\\nWhatsApp\\n\\n\\n\\n\\n\\n\\nSMS\\n\\n\\n\\n\\n\\n\\nEmail\\n\\n\\n\\n\\n\\n\\n\\n\\n\\n\\n\\n\\n\\n\\n\\n\\n\\n\\n\\n\\n\\n\\n\\n\\n\\n\\n\\n\\n\\n\\n\\n\\n\\n\\n\\n\\n\\n\\n\\n\\n\\n\\n\\nRide the 'COVID-19 East'? Group calls crowded Scarborough buses a hazard\\n\\n\\nTTCriders stages protest Saturday outside office of Tory MPP\\n\\n\\n\\n\\n                    By Mike Adler Toronto.com\\n\\n\\n\\n\\n\\n\\n\\n\\n\\n\\n\\n\\nMike Adler\\n\\n\\n\\n\\n\\nAuthor email\\n\\n\\n\\n\\n\\n\\n\\n\\nRSS Feed\\n\\n\\n\\n\\n\\n\\n\\n\\n\\n\\n\\n\\n\\n\\n\\n\\n\\n\\n            Sep 11, 2020\\n        \\nSep 11, 2020\\nUpdated \\nMar 25, 2023\\n\\n\\n\\n\\n\\n\\n\\n\\n\\n\\n\\n\\n\\nFacebook\\n\\n\\n\\n\\n\\n\\nTwitter\\n\\n\\n\\n\\n\\n\\nWhatsApp\\n\\n\\n\\n\\n\\n\\nSMS\\n\\n\\n\\n\\n\\n\\nEmail\\n\\n\\n\\n\\n\\n\\n\\n\\n\\n\\n\\n\\n\\n\\n\\n\\nFacebook\\n\\n\\n\\n\\n\\n\\nTwitter\\n\\n\\n\\n\\n\\n\\nWhatsApp\\n\\n\\n\\n\\n\\n\\nSMS\\n\\n\\n\\n\\n\\n\\nEmail\\n\\n\\n\\n\\n\\n\\nPrint\\n\\n\\n\\n\\n\\n\\nCopy article link\\n\\n\\n\\n\\n\\n\\nSave\\n\\n\\n\\n\\n\\n\\n\\n\\n\\n\\n\\n\\n\\n\\n\\nTransit advocates and students will ask for money to make TTC buses safer to ride through the pandemic Saturday, Sept. 12, in a Scarborough parking lot.TTCriders says many buses on Scarborough routes are too crowded and the problem must be fixed before students return to school this fall.To make its point, the group is bringing a cardboard bus, the “COVID-19 East,” to a plaza at Sheppard East and Morningside avenues housing offices of MPP Vijay Thanigasalam, Mulroney’s parliamentary assistant, from 1:30 to 2:30 p.m.The group was asking the province to relieve overcrowding before the pandemic began, but COVID-19 made it a public health issue.Current TTC buses are designed to carry at least 51 passengers. At Stage 3 of Ontario’s pandemic response, each bus is supposed to carry no more than 35, said Vincent Puhakka, a Scarborough spokesperson for TTC riders, adding he’s never seen that limit enforced.On Aug. 12, Mulroney said to receive provincial money to rebuild levels of TTC service, TTC must first review low-performing bus routes to see whether these could be replaced by micro-transit.Puhakka said TTC should all get the promised money without strings attached.Thanigasalam, who represents Scarborough-Rouge Park, couldn’t be reached for comment.Eesha Chaudry said underfunding and overcrowding of Toronto’s transit system puts students and marginalized people at risk.Chaudry, who will speak at Saturday’s event, is vice president external for Scarborough Campus Students’ Union, which represents 14,000 undergraduates.Though most courses at University of Toronto Scarborough will be taught remotely, the campus is open and functioning. Because Chaudry’s Durham Region home can be “super loud,” thanks to her three sisters and cats, she sometimes prefers working on campus.But getting on a crowded bus scares her and many students, said Chaudry, adding she’s seen people who take their masks off once they’re on.It’s important to get governments to listen and prioritize public transit more, she said.\\n\\n\\n\\n\\n\\n\\n\\nFacebook\\n\\n\\n\\n\\n\\n\\nTwitter\\n\\n\\n\\n\\n\\n\\nWhatsApp\\n\\n\\n\\n\\n\\n\\nSMS\\n\\n\\n\\n\\n\\n\\nEmail\\n\\n\\n\\n\\n\\n\\nPrint\\n\\n\\n\\n\\n\\n\\nCopy article link\\n\\n\\n\\n\\n\\n\\nSave\\n\\n\\n\\n\\n\\n\\n\\n\\n\\n\\n\\n\\n\\n\\n\\n\\n\\nRelated Links\\n\\n\\n\\n More funding needed to alleviate TTC overcrowding: advocacy group\\n                                                    \\n\\n\\n\\n Anti-Black racism can be seen in Toronto transit planning for Scarborough\\n                                                    \\n\\n\\n\\n East Scarborough to get priority bus lanes, but not on Steeles or Finch\\n                                                    \\n\\n\\n\\n\\n\\n\\n\\n\\n\\nTags\\n\\nLocal News\\n \\nToronto_scarborough\\n \\nOntario\\n \\n\\n\\n\\n\\n\\n\\n\\n\\n\\n\\n\\n\\n\\nMike Adler\\n\\nMike Adler is a reporter with toronto.com and Metroland Media Toronto who covers Scarborough and other overlooked parts of Toronto. He worked previously for Metroland in York Region.\\n\\n\\n\\n\\nAuthor email\\n\\n\\n\\n\\n\\n\\n\\n\\nRSS Feed\\n\\n\\n\\n\\n\\n\\n\\n\\n\\n\\n\\n\\n\\n\\n\\n\\nReport an error\\n\\n\\nJournalistic Standards\\n\\n\\n\\n\\n\\n\\n\\n\\n                \\n                You might be interested in\\n                \\n            \\n\\n\\n\\n\\n\\n\\n\\n\\n\\n\\n\\n\\n\\n\\n\\n\\n\\n\\n\\nScarborough\\n\\n\\n\\n\\n        \\n\\n        \\n            SCARBOROUGH: here’s what’s going on, Sept. 19 to Oct. 1, 2023\\n\\nUpdated \\n5 hrs ago\\n\\n\\n\\n\\n\\n\\n\\n\\n\\n\\n\\n\\n\\n\\n\\n\\n\\n\\n\\n\\n\\n\\n\\nNorth York\\n\\n\\n\\n\\n        \\n\\n        \\n            NORTH YORK: here’s what’s going on, Sept. 19 to Oct. 1, 2023\\n\\nUpdated \\n8 hrs ago\\n\\n\\n\\n\\n\\n\\n\\n\\n\\n\\n\\n\\n\\n\\n\\n\\n\\n\\n\\n\\n\\n\\n\\nEtobicoke\\n\\n\\n\\n\\n        \\n\\n        \\n            ETOBICOKE: here’s what’s going on, Sept. 19 to Oct. 1, 2023\\n\\nUpdated \\n5 hrs ago\\n\\n\\n\\n\\n\\n\\n\\n\\n\\n\\n\\n\\n.\\n\\n\\n\\n\\n                \\n                Top Stories\\n                \\n            \\n\\n\\n\\n\\n\\n\\n\\n\\n\\n\\n\\n\\n\\n\\n\\n\\n\\n\\n\\n\\n\\nScarborough\\n\\n\\n\\n\\n        \\n\\n        \\n            SCARBOROUGH: here’s what’s going on, Sept. 19 to Oct. 1, 2023\\n\\nUpdated \\n5 hrs ago\\n\\n\\n\\nEvents include Scarborough Players' theatre, fall fest, harvest festival, art fundraiser\\n\\n\\n\\n\\n\\n\\n\\n\\n\\n\\n\\n\\n\\n\\n\\n\\n\\n\\n\\n\\n\\n\\n\\n\\nNorth York\\n\\n\\n\\n\\n        \\n\\n        \\n            NORTH YORK: here’s what’s going on, Sept. 19 to Oct. 1, 2023\\n\\nUpdated \\n8 hrs ago\\n\\n\\n\\n\\n\\n\\n\\n\\n\\n\\n\\n\\n\\n\\n\\n\\n\\n\\n\\n\\n\\nEtobicoke\\n\\n\\n\\n\\n        \\n\\n        \\n            ETOBICOKE: here’s what’s going on, Sept. 19 to Oct. 1, 2023\\n\\nUpdated \\n5 hrs ago\\n\\n\\n\\n\\n\\n\\n\\n\\n\\n\\n\\n\\n\\n\\n\\n\\n\\n\\n\\n\\n\\nNews\\n\\n\\n\\n\\n        \\n\\n        \\n            Year-long Toronto Public Library initiative explores intellectual freedom challenges\\n\\nUpdated \\n9 hrs ago\\n\\n\\n\\n\\n\\n\\n\\n\\n\\n\\n\\n\\n\\n\\n\\n\\n\\n\\n\\n\\n\\nNews\\n\\n\\n\\n\\n        \\n\\n        \\n            Elementary Teachers’ Federation of Ontario's 83K members gathering for strike votes\\n\\nUpdated \\n10 hrs ago\\n\\n\\n\\n\\n\\n\\n\\n\\n\\n\\n\\n\\n\\n\\n\\n\\n\\n\\n\\n\\n\\n\\n\\n\\n\\n\\n\\n\\n\\n\\n\\n\\n\\n\\n\\n\\n\\n\\n\\n\\n\\n\\n\\n\\n\\n\\n\\n\\n\\n\\n                \\n                Helpful Links\\n                \\n            \\n\\n\\n\\nClassifieds\\n\\n\\nDigital Editions\\n\\n\\nMarketplace\\n\\n\\nObituaries\\n\\n\\nSitemap\\n\\n\\nToronto.com Readers Choice\\n\\n\\nMetroland Gives Back\\n\\n\\nWalk-In Clinics\\n\\n\\nMetroland Store\\n\\n\\n\\n\\n\\n                \\n                Connect with us\\n                \\n            \\n\\n\\n\\nAbout Us\\n\\n\\nBecome a Carrier\\n\\n\\nContact Us\\n\\n\\nDelivery Concerns\\n\\n\\nNewsletter Signup\\n\\n\\nFeedback\\n\\n\\nSubmit a Letter\\n\\n\\nSubmit Multimedia\\n\\n\\n\\n\\nContact Information\\n\\n\\n\\nPhone: 1-833-440-7474\\nEmail: newsroom@toronto.com\\n\\n\\n\\n\\n\\n\\n                \\n                Follow Us\\n                \\n            \\n\\n\\n\\n\\n\\nFacebook\\n\\n\\n\\n\\n\\nTwitter\\n\\n\\n\\n\\n\\nInstagram\\n\\n\\n\\n\\n\\n\\n\\n\\n\\n\\n\\n\\n\\n×\\nBrowser Compatibility\\n\\n\\nYour browser is out of date and potentially vulnerable to security risks.We recommend switching to one of the following browsers:\\n\\nMicrosoft Edge\\nGoogle Chrome\\nFirefox\\n\\n\\n\\n\\n\\n\\n\\n\\n\\nCopyright 2023 Toronto Star Newspapers Limited. All Rights Reserved. 8 Spadina Avenue, 10th floor, Toronto, ON M5V 0S8\\nCorporate Privacy Policy | Terms of Use | Advertising Terms | Accessibility\",\n",
       "   'filename': '/Users/kaz/repos/toronto-com-ttcriders-archive/scraper/output/toronto.com/ride-the-covid-19-east-group-calls-crowded-scarborough-buses-a-hazard.html'},\n",
       "  {'body': \"Skip to main content\\n\\n\\n\\n\\n\\n\\n\\n\\nYou have permission to edit this article.\\n\\n Edit\\nClose\\n\\n\\n\\n\\n\\n\\n\\n\\nToronto.com\\n\\n\\n\\nHome\\n\\n\\n\\n\\n\\nNews\\n\\n\\nBusiness\\n\\nCouncil\\n\\nCrime\\n\\nMunicipal Election\\n\\nProvincial Election\\n\\nFederal Election\\n\\nBloor West - Parkdale\\n\\nBeach - East York\\n\\nEtobicoke\\n\\nNorth York\\n\\nScarborough\\n\\nYork - City Centre\\n\\nTopics\\n\\n\\n\\n\\nEvents\\n\\n\\nArts\\n\\nAttractions\\n\\nCommunity\\n\\nFestivals and Fairs\\n\\nMusic\\n\\nSeasonal\\n\\nShows and Expos\\n\\nSports\\n\\n\\n\\n\\nThings to Do\\n\\n\\nBooks And Authors\\n\\nContests\\n\\nFood And Drink\\n\\n\\n\\n\\nOpinion\\n\\n\\nAdvice\\n\\nColumns\\n\\nCommunity Voices\\n\\nEditorial\\n\\nLetters\\n\\n\\n\\n\\nLife\\n\\n\\nFashion And Beauty\\n\\nObituaries\\n\\nPersonal Finance\\n\\nReal Estate\\n\\nTravel\\n\\nWellness\\n\\nWheels\\n\\n\\n\\n\\nSpecial Features\\n\\n\\nMarketplace\\n\\nReaders' Choice Awards\\n\\nSponsored and Partners\\n\\nClassifieds\\n\\n\\n\\n\\n\\n\\n\\n\\n\\n\\n\\n\\n\\nSite search\\n\\n\\n\\n\\nSearch\\n\\n\\n\\n\\n\\n\\n\\n\\n\\n\\n\\n\\n\\n\\n\\n\\n\\n\\n\\n\\n\\n\\n\\n\\n\\n\\n\\n\\n\\n\\n\\n\\n\\n13°C\\n\\n\\n\\n\\n\\nTuesday, September 19, 2023\\n\\n\\n\\n\\n\\n\\n\\n\\nFacebook\\n\\n\\n\\n\\n\\nTwitter\\n\\n\\n\\n\\n\\nInstagram\\n\\n\\n\\n\\n\\n\\n\\n\\n\\n\\n\\n\\n\\n\\n\\n\\n\\nMenu\\n\\n\\n\\n\\n\\n\\n\\n\\n\\n\\n\\n\\n\\n\\n Toronto.com\\n\\n\\n Home\\n\\n\\nNews\\n\\n\\nBusiness\\n\\n\\nCouncil\\n\\n\\nCrime\\n\\n\\nMunicipal Election\\n\\n\\nProvincial Election\\n\\n\\nFederal Election\\n\\n\\nBloor West - Parkdale\\n\\n\\nBeach - East York\\n\\n\\nEtobicoke\\n\\n\\nNorth York\\n\\n\\nScarborough\\n\\n\\nYork - City Centre\\n\\n\\nTopics\\n\\n\\nEvents\\n\\n\\nArts\\n\\n\\nAttractions\\n\\n\\nCommunity\\n\\n\\nFestivals and Fairs\\n\\n\\nMusic\\n\\n\\nSeasonal\\n\\n\\nShows and Expos\\n\\n\\nSports\\n\\n\\nThings to Do\\n\\n\\nBooks And Authors\\n\\n\\nContests\\n\\n\\nFood And Drink\\n\\n\\nOpinion\\n\\n\\nAdvice\\n\\n\\nColumns\\n\\n\\nCommunity Voices\\n\\n\\nEditorial\\n\\n\\nLetters\\n\\n\\nLife\\n\\n\\nFashion And Beauty\\n\\n\\nObituaries\\n\\n\\nPersonal Finance\\n\\n\\nReal Estate\\n\\n\\nTravel\\n\\n\\nWellness\\n\\n\\nWheels\\n\\n\\nSpecial Features\\n\\n\\nMarketplace\\n\\n\\nReaders' Choice Awards\\n\\n\\nSponsored and Partners\\n\\n\\nClassifieds\\n\\n\\n\\n\\n\\nShare This \\n\\n\\n\\n\\n\\nFacebook\\n\\n\\n\\n\\n\\n\\nTwitter\\n\\n\\n\\n\\n\\n\\nWhatsApp\\n\\n\\n\\n\\n\\n\\nSMS\\n\\n\\n\\n\\n\\n\\nEmail\\n\\n\\n\\n\\n\\n\\n\\n\\n\\n\\n\\n\\n\\n\\n\\n\\n\\n\\n\\n\\n\\n\\n\\n\\n\\n\\n\\n\\n\\n\\n\\n\\n\\n\\n\\n\\n\\n\\n\\n\\n\\n\\n\\n\\n\\nTransit workers union vows to fight TTC vaccine mandate\\n\\n\\n\\n\\nBy Ben Spurr Transportation Reporter\\n\\n\\n            Aug 19, 2021\\n        \\nAug 19, 2021\\nUpdated \\nFeb 15, 2023\\n\\n\\n\\n\\n\\n\\n\\n\\n\\n\\n\\n\\n\\nFacebook\\n\\n\\n\\n\\n\\n\\nTwitter\\n\\n\\n\\n\\n\\n\\nWhatsApp\\n\\n\\n\\n\\n\\n\\nSMS\\n\\n\\n\\n\\n\\n\\nEmail\\n\\n\\n\\n\\n\\n\\n\\n\\n\\n\\n\\n\\n\\n\\n\\n\\n\\n\\n\\n\\n\\n\\nTTC CEO Rick Leary said Thursday that starting of Sept. 13 vaccinations would be mandatory for all the agency’s workers and contractors. - Steve Russell / Toronto Star File Photo\\n\\n\\n\\n\\n\\n\\n\\n\\n\\n\\n\\n\\n\\nFacebook\\n\\n\\n\\n\\n\\n\\nTwitter\\n\\n\\n\\n\\n\\n\\nWhatsApp\\n\\n\\n\\n\\n\\n\\nSMS\\n\\n\\n\\n\\n\\n\\nEmail\\n\\n\\n\\n\\n\\n\\nPrint\\n\\n\\n\\n\\n\\n\\nCopy article link\\n\\n\\n\\n\\n\\n\\nSave\\n\\n\\n\\n\\n\\n\\n\\n\\n\\n\\n\\n\\n\\n\\n\\n\\n\\n\\n\\nFacebook\\n\\n\\n\\n\\n\\n\\nTwitter\\n\\n\\n\\n\\n\\n\\nWhatsApp\\n\\n\\n\\n\\n\\n\\nSMS\\n\\n\\n\\n\\n\\n\\nEmail\\n\\n\\n\\n\\n\\n\\nPrint\\n\\n\\n\\n\\n\\n\\nCopy article link\\n\\n\\n\\n\\n\\n\\nSave\\n\\n\\n\\n\\n\\n\\n\\n\\n\\n\\n\\n\\n\\n\\n\\nThe TTC’s largest union is vowing to fight the transit agency’s new policy requiring its employees be fully vaccinated against COVID-19.TTC CEO Rick Leary announced Thursday vaccinations would be mandatory for all 16,000 of the organization’s workers unless they can show proof of a medical exemption. The announcement came soon after Mayor John Tory said the city would require its workers to get their shots.Leary said in a statement the transit agency “has been a leader throughout the COVID-19 pandemic with respect to safety” and requiring employees be inoculated “is one more thing we can do for ourselves and each other to limit the spread.”The TTC is an arms-length agency of the city, and was not automatically covered by the vaccine policy Tory announced. But at a press conference Thursday morning the mayor said his administration had been in touch with municipal agencies and expressed “a strong desire” for them to follow the city’s lead.The mayor cited figures that indicate 95 per cent of hospitalizations and deaths Toronto is experiencing in the fourth wave of the pandemic are in people not fully vaccinated.While unions representing Toronto’s more than 37,000 municipal employees made no sign Thursday they would oppose the city’s vaccine mandate, Amalgamated Transit Union Local 113, which represents about 12,000 TTC workers, was swift to condemn the move.“Local 113 supports the right of every member of Local 113 to make their own informed decisions about their personal health matters, including vaccination. We oppose mandatory vaccination,” the local president Carlos Santos said in a statement to his members, which include thousands of bus operators whose jobs require close contact with the public.Santos noted the TTC has yet to provide details of how the mandate will be implemented, and it’s unclear whether employees who refuse to get the shots will be offered alternatives like frequent testing, or what the consequences will be for those who don’t comply.“Whatever the TTC ultimately determines, please know that Local 113 will aggressively oppose any action of the TTC which violates the rights of any member,” Santos said.The TTC had previously said it wouldn’t require its workers to get vaccinated, with a spokesperson telling the Star in May that getting the shot “remains a personal choice.” The agency described its reversal as a response to the city introducing its own mandate, as well the high transmissibility of the Delta variant driving the fourth wave.The TTC’s initial statement said vaccinations would be mandatory “as of Sept. 13.” That would differ from the city’s policy, which would only require employees to provide proof of their vaccination status by that date. City workers won’t be required to be fully vaccinated until Oct. 30.TTC spokesperson Stuart Green clarified the agency is asking workers for “proof of vaccination or medical exemption” by Sept. 13. He said the TTC expects its deadline for vaccination will “approximate” the city’s timelines, but details will be included in a policy document released by the end of the month. The mandate will not have to be approved by the TTC board, and will apply to TTC contractors as well as employees.The transit agency has not published data on how many of its workers are vaccinated, but Green said its assumption is that most employees have already been immunized. As of this week, more than 1,060 TTC employees have tested positive for the virus.The union’s opposition to the mandate could be unpopular with riders, who the TTC is trying to win back after the historic drop in transit use caused by COVID-19.Andrew Dodds, a 35-year-old Riverdale resident, told the Star he’s been wary of taking transit during the pandemic, especially because he’s a Type 1 diabetic and considered high risk. He said knowing that bus drivers and station attendants he encounters have been vaccinated would give him “more faith in the system” and make him more likely to ride.“This seems like the easiest and simplest way to say, ‘We absolutely value the safety of all of our colleagues (and) all of our customers,’” Dodds said.TTCriders, a transit advocacy group, is also backing the mandate, but said in a statement that it “should not replace needed safety measures” like adding service to reduce crowding, and more strictly enforcing the requirement that passengers wear masks.The TTC appears to be the first major municipal transit agency in Ontario to introduce a vaccine mandate for workers, with officials in York Region and Mississauga telling the Star Thursday they were still studying their options.However, OC Transpo in Ottawa is federally regulated, and Ottawa’s city solicitor said in a statement the city is awaiting details of the federal government announcement last week that transportation employees under its jurisdiction will have to get their shots. He said OC Transpo will comply.A spokesperson for Metrolinx, which oversees GO Transit and UP Express, said she wasn’t prepared to comment Thursday.Ben Spurr is a Toronto-based reporter covering transportation. Reach him by email at bspurr@thestar.ca or falollow him on Twitter: @BenSpusrr\\n\\n\\n\\n\\n\\n\\n\\nFacebook\\n\\n\\n\\n\\n\\n\\nTwitter\\n\\n\\n\\n\\n\\n\\nWhatsApp\\n\\n\\n\\n\\n\\n\\nSMS\\n\\n\\n\\n\\n\\n\\nEmail\\n\\n\\n\\n\\n\\n\\nPrint\\n\\n\\n\\n\\n\\n\\nCopy article link\\n\\n\\n\\n\\n\\n\\nSave\\n\\n\\n\\n\\n\\n\\n\\n\\n\\n\\n\\n\\n\\n\\n\\n\\nTags\\n\\nWindsor\\n \\nOntario\\n \\n\\n\\n\\nReport an error\\n\\n\\nJournalistic Standards\\n\\n\\n\\n\\n\\n\\n\\n\\n                \\n                You might be interested in\\n                \\n            \\n\\n\\n\\n\\n\\n\\n\\n\\n\\n\\n\\n\\n\\n\\n\\n\\n\\n\\n\\nScarborough\\n\\n\\n\\n\\n        \\n\\n        \\n            SCARBOROUGH: here’s what’s going on, Sept. 19 to Oct. 1, 2023\\n\\nUpdated \\n6 hrs ago\\n\\n\\n\\n\\n\\n\\n\\n\\n\\n\\n\\n\\n\\n\\n\\n\\n\\n\\n\\n\\n\\n\\n\\nNorth York\\n\\n\\n\\n\\n        \\n\\n        \\n            NORTH YORK: here’s what’s going on, Sept. 19 to Oct. 1, 2023\\n\\nUpdated \\n8 hrs ago\\n\\n\\n\\n\\n\\n\\n\\n\\n\\n\\n\\n\\n\\n\\n\\n\\n\\n\\n\\n\\n\\n\\n\\nEtobicoke\\n\\n\\n\\n\\n        \\n\\n        \\n            ETOBICOKE: here’s what’s going on, Sept. 19 to Oct. 1, 2023\\n\\nUpdated \\n6 hrs ago\\n\\n\\n\\n\\n\\n\\n\\n\\n\\n\\n\\n\\n.\\n\\n\\n\\n\\n                \\n                Top Stories\\n                \\n            \\n\\n\\n\\n\\n\\n\\n\\n\\n\\n\\n\\n\\n\\n\\n\\n\\n\\n\\n\\n\\n\\nScarborough\\n\\n\\n\\n\\n        \\n\\n        \\n            SCARBOROUGH: here’s what’s going on, Sept. 19 to Oct. 1, 2023\\n\\nUpdated \\n6 hrs ago\\n\\n\\n\\nEvents include Scarborough Players' theatre, fall fest, harvest festival, art fundraiser\\n\\n\\n\\n\\n\\n\\n\\n\\n\\n\\n\\n\\n\\n\\n\\n\\n\\n\\n\\n\\n\\n\\n\\n\\nNorth York\\n\\n\\n\\n\\n        \\n\\n        \\n            NORTH YORK: here’s what’s going on, Sept. 19 to Oct. 1, 2023\\n\\nUpdated \\n8 hrs ago\\n\\n\\n\\n\\n\\n\\n\\n\\n\\n\\n\\n\\n\\n\\n\\n\\n\\n\\n\\n\\n\\nEtobicoke\\n\\n\\n\\n\\n        \\n\\n        \\n            ETOBICOKE: here’s what’s going on, Sept. 19 to Oct. 1, 2023\\n\\nUpdated \\n6 hrs ago\\n\\n\\n\\n\\n\\n\\n\\n\\n\\n\\n\\n\\n\\n\\n\\n\\n\\n\\n\\n\\n\\nNews\\n\\n\\n\\n\\n        \\n\\n        \\n            Year-long Toronto Public Library initiative explores intellectual freedom challenges\\n\\nUpdated \\n10 hrs ago\\n\\n\\n\\n\\n\\n\\n\\n\\n\\n\\n\\n\\n\\n\\n\\n\\n\\n\\n\\n\\n\\nNews\\n\\n\\n\\n\\n        \\n\\n        \\n            Elementary Teachers’ Federation of Ontario's 83K members gathering for strike votes\\n\\nUpdated \\n11 hrs ago\\n\\n\\n\\n\\n\\n\\n\\n\\n\\n\\n\\n\\n\\n\\n\\n\\n\\n\\n\\n\\n\\n\\n\\n\\n\\n\\n\\n\\n\\n\\n\\n\\n\\n\\n\\n\\n\\n\\n\\n\\n\\n\\n\\n\\n\\n\\n\\n\\n\\n\\n                \\n                Helpful Links\\n                \\n            \\n\\n\\n\\nClassifieds\\n\\n\\nDigital Editions\\n\\n\\nMarketplace\\n\\n\\nObituaries\\n\\n\\nSitemap\\n\\n\\nToronto.com Readers Choice\\n\\n\\nMetroland Gives Back\\n\\n\\nWalk-In Clinics\\n\\n\\nMetroland Store\\n\\n\\n\\n\\n\\n                \\n                Connect with us\\n                \\n            \\n\\n\\n\\nAbout Us\\n\\n\\nBecome a Carrier\\n\\n\\nContact Us\\n\\n\\nDelivery Concerns\\n\\n\\nNewsletter Signup\\n\\n\\nFeedback\\n\\n\\nSubmit a Letter\\n\\n\\nSubmit Multimedia\\n\\n\\n\\n\\nContact Information\\n\\n\\n\\nPhone: 1-833-440-7474\\nEmail: newsroom@toronto.com\\n\\n\\n\\n\\n\\n\\n                \\n                Follow Us\\n                \\n            \\n\\n\\n\\n\\n\\nFacebook\\n\\n\\n\\n\\n\\nTwitter\\n\\n\\n\\n\\n\\nInstagram\\n\\n\\n\\n\\n\\n\\n\\n\\n\\n\\n\\n\\n\\n×\\nBrowser Compatibility\\n\\n\\nYour browser is out of date and potentially vulnerable to security risks.We recommend switching to one of the following browsers:\\n\\nMicrosoft Edge\\nGoogle Chrome\\nFirefox\\n\\n\\n\\n\\n\\n\\n\\n\\n\\nCopyright 2023 Toronto Star Newspapers Limited. All Rights Reserved. 8 Spadina Avenue, 10th floor, Toronto, ON M5V 0S8\\nCorporate Privacy Policy | Terms of Use | Advertising Terms | Accessibility\",\n",
       "   'filename': '/Users/kaz/repos/toronto-com-ttcriders-archive/scraper/output/toronto.com/transit-workers-union-vows-to-fight-ttc-vaccine-mandate.html'},\n",
       "  {'body': \"Skip to main content\\n\\n\\n\\n\\n\\n\\n\\n\\nYou are the owner of this article.\\n\\n Edit Article\\n Add New Article\\nClose\\n\\n\\n\\nYou have permission to edit this article.\\n\\n Edit\\nClose\\n\\n\\n\\n\\n\\n\\n\\n\\nToronto.com\\n\\n\\n\\nHome\\n\\n\\n\\n\\n\\nNews\\n\\n\\nBusiness\\n\\nCouncil\\n\\nCrime\\n\\nMunicipal Election\\n\\nProvincial Election\\n\\nFederal Election\\n\\nBloor West - Parkdale\\n\\nBeach - East York\\n\\nEtobicoke\\n\\nNorth York\\n\\nScarborough\\n\\nYork - City Centre\\n\\nTopics\\n\\n\\n\\n\\nEvents\\n\\n\\nArts\\n\\nAttractions\\n\\nCommunity\\n\\nFestivals and Fairs\\n\\nMusic\\n\\nSeasonal\\n\\nShows and Expos\\n\\nSports\\n\\n\\n\\n\\nThings to Do\\n\\n\\nBooks And Authors\\n\\nContests\\n\\nFood And Drink\\n\\n\\n\\n\\nOpinion\\n\\n\\nAdvice\\n\\nColumns\\n\\nCommunity Voices\\n\\nEditorial\\n\\nLetters\\n\\n\\n\\n\\nLife\\n\\n\\nFashion And Beauty\\n\\nObituaries\\n\\nPersonal Finance\\n\\nReal Estate\\n\\nTravel\\n\\nWellness\\n\\nWheels\\n\\n\\n\\n\\nSpecial Features\\n\\n\\nMarketplace\\n\\nReaders' Choice Awards\\n\\nSponsored and Partners\\n\\nClassifieds\\n\\n\\n\\n\\n\\n\\n\\n\\n\\n\\n\\n\\n\\nSite search\\n\\n\\n\\n\\nSearch\\n\\n\\n\\n\\n\\n\\n\\n\\n\\n\\n\\n\\n\\n\\n\\n\\n\\n\\n\\n\\n\\n\\n\\n\\n\\n\\n\\n\\n\\n\\n\\n\\n\\n13°C\\n\\n\\n\\n\\n\\nTuesday, September 19, 2023\\n\\n\\n\\n\\n\\n\\n\\n\\nFacebook\\n\\n\\n\\n\\n\\nTwitter\\n\\n\\n\\n\\n\\nInstagram\\n\\n\\n\\n\\n\\n\\n\\n\\n\\n\\n\\n\\n\\n\\n\\n\\n\\nMenu\\n\\n\\n\\n\\n\\n\\n\\n\\n\\n\\n\\n\\n\\n\\n Toronto.com\\n\\n\\n Home\\n\\n\\nNews\\n\\n\\nBusiness\\n\\n\\nCouncil\\n\\n\\nCrime\\n\\n\\nMunicipal Election\\n\\n\\nProvincial Election\\n\\n\\nFederal Election\\n\\n\\nBloor West - Parkdale\\n\\n\\nBeach - East York\\n\\n\\nEtobicoke\\n\\n\\nNorth York\\n\\n\\nScarborough\\n\\n\\nYork - City Centre\\n\\n\\nTopics\\n\\n\\nEvents\\n\\n\\nArts\\n\\n\\nAttractions\\n\\n\\nCommunity\\n\\n\\nFestivals and Fairs\\n\\n\\nMusic\\n\\n\\nSeasonal\\n\\n\\nShows and Expos\\n\\n\\nSports\\n\\n\\nThings to Do\\n\\n\\nBooks And Authors\\n\\n\\nContests\\n\\n\\nFood And Drink\\n\\n\\nOpinion\\n\\n\\nAdvice\\n\\n\\nColumns\\n\\n\\nCommunity Voices\\n\\n\\nEditorial\\n\\n\\nLetters\\n\\n\\nLife\\n\\n\\nFashion And Beauty\\n\\n\\nObituaries\\n\\n\\nPersonal Finance\\n\\n\\nReal Estate\\n\\n\\nTravel\\n\\n\\nWellness\\n\\n\\nWheels\\n\\n\\nSpecial Features\\n\\n\\nMarketplace\\n\\n\\nReaders' Choice Awards\\n\\n\\nSponsored and Partners\\n\\n\\nClassifieds\\n\\n\\n\\n\\n\\nShare This \\n\\n\\n\\n\\n\\nFacebook\\n\\n\\n\\n\\n\\n\\nTwitter\\n\\n\\n\\n\\n\\n\\nWhatsApp\\n\\n\\n\\n\\n\\n\\nSMS\\n\\n\\n\\n\\n\\n\\nEmail\\n\\n\\n\\n\\n\\n\\n\\n\\n\\n\\n\\n\\n\\n\\n\\n\\n\\n\\n\\n\\n\\n\\n\\n\\n\\n\\n\\n\\n\\n\\n\\n\\n\\n\\n\\n\\n\\n\\n\\n\\n\\n\\n\\n\\n\\nTTC says it’s losing about $18 million a week in fares, will need bailout over coronavirus ridership crash\\n\\n\\nAs of last Friday, Ridership on Canada’s busiest transit system was down about 70 to 72 per cent.\\n\\n\\n\\n\\n                    By Ben Spurr Toronto Star\\n\\n\\n\\n\\n\\n\\n\\n\\n\\n\\n\\n\\nBen Spurr\\n\\n\\n\\n\\n\\nAuthor twitter\\n\\n\\n\\n\\n\\n\\n\\nAuthor email\\n\\n\\n\\n\\n\\n\\n\\n\\nRSS Feed\\n\\n\\n\\n\\n\\n\\n\\n\\n\\n\\n\\n\\n\\n\\n\\n\\n\\n\\n            Mar 26, 2020\\n        \\nMar 26, 2020\\n\\n\\n\\n\\n\\n\\n\\n\\n\\n\\n\\n\\n\\nFacebook\\n\\n\\n\\n\\n\\n\\nTwitter\\n\\n\\n\\n\\n\\n\\nWhatsApp\\n\\n\\n\\n\\n\\n\\nSMS\\n\\n\\n\\n\\n\\n\\nEmail\\n\\n\\n\\n\\n\\n\\n\\n\\n\\n\\n\\n\\n\\n\\n\\n\\n\\n\\n\\n\\n\\n\\nTTC employees wipe down the surfaces inside a subway car in a March 3 demonstration. - Rene Johnston/Toronto Star\\n\\n\\n\\n\\n\\n\\n\\n\\n\\n\\n\\n\\n\\n\\nFacebook\\n\\n\\n\\n\\n\\n\\nTwitter\\n\\n\\n\\n\\n\\n\\nWhatsApp\\n\\n\\n\\n\\n\\n\\nSMS\\n\\n\\n\\n\\n\\n\\nEmail\\n\\n\\n\\n\\n\\n\\nPrint\\n\\n\\n\\n\\n\\n\\nCopy article link\\n\\n\\n\\n\\n\\n\\nSave\\n\\n\\n\\n\\n\\n\\n\\n\\n\\n\\n\\n\\n\\n\\n\\nThe TTC will likely require at least tens of millions of dollars in financial assistance to cope with what the agency describes as an unprecedented ridership drop caused by\\xa0the COVID-19 pandemic, and the organization will be facing critical decisions about how to rebuild even after the worst of the emergency is over.According to the latest figures from the TTC, as of last Friday ridership on the country’s busiest transit system was down about 70 to 72 per cent systemwide compared to earlier in March before the crisis fully took hold.According to TTC CEO Rick Leary, the pandemic has done unparalleled damage to transit use in the city.“No one remembers historically (anything) ever having an impact like that,” he said in an interview.The steepest decline has been in subway ridership, which is down about 80 per cent. Streetcar use has declined by 76 per cent, and bus use by 62 per cent. Trips on the agency’s Wheel-Trans service for customers with mobility issues have fallen 75 per cent.At this rate, the TTC estimates it’s losing about $18 million in fares each week. During a normal week it would collect about $25 million.Even with the dramatic drop, the TTC is still moving close to 500,000 people per day. Although last week the agency attempted to maintain service at something approaching normal levels, it is now operating about 80 per cent of regular service in response to lower demand and also because of lower staffing levels.Leary acknowledged the crisis will likely cost the TTC tens if not hundreds of millions of dollars in lost revenue. The agency had expected to collect about $1.3 billion in fare revenue this year, which would account for roughly two-thirds of its $2-billion operating budget. The bulk of the other third was to be made up by a subsidy from the city.How the TTC will make up the shortfall is one of the many tough unanswered questions facing the city.Don Peat, a spokesperson for Mayor John Tory, said the mayor is “is focused on making sure the TTC and all aspects of the City government will recover from the pandemic.”Peat said Tory is “on the phone daily with federal and provincial officials” to discuss the economic response to the pandemic and “when this is over the mayor will be working to make sure the transit service we have built remains strong.”Transit agencies outside Toronto are also hurting.According to the Canadian Urban Transit Association, the country’s ten largest agencies are carrying nearly 80 per cent fewer riders per day since before the outbreak, and some systems have reported declines of almost 90 per cent.The association said the plummeting ridership represents collective financial losses of about $280 million per month for the country’s transit agencies.“It is a critical challenge to the bottom line of systems nationwide because operations must continue. And continue with enough frequency to allow safe social distancing,” said Marco D’Angelo, CEO of CUTA, in a news release.The association said it had asked the federal government for financial support for transit agencies and “discussions continue.”A spokesperson for the federal government couldn’t immediately respond to questions on the issue Wednesday.The\\xa0$17-billion COVID response plan\\xa0Premier Doug Ford’s government unveiled Wednesday didn’t include a bailout for transit operators.But in a written statement Christina Salituro, spokesperson for Transportation Minister Caroline Mulroney, said the Ontario government is “closely monitoring” the ridership situation and is “prepared to support our transit partners.”“That said, we are still in the early days of responding to this pandemic,” Salituro said.Even after the immediate crisis is over and restrictions on public life designed to prevent the spread of COVID-19 are lifted, the TTC could struggle with ridership shortfalls.Previous analyses by the TTC have shown that historically ridership is closely correlated with job activity, and employment levels may not rebound immediately. Transit use could also be depressed if a significant number make the switch to working from home permanently after the crisis has passed.Some transit watchers say they’ve seen this scenario before, and it didn’t play out well for the TTC. Councillor Gord Perks (Ward 4, Parkdale-High Park), said that when the recession of the early 1990’s started to eat into TTC ridership, the city responded by reducing transit service and raising fares.According to Perks, that caused a vicious cycle in which transit became less reliable, leading to fewer people riding, which in turn was used to justify further service cuts.The result was steep ridership declines. In 1990 the TTC carried 459 million people. By 1996, that had dropped almost 20 per cent, to 372 million, and the agency didn’t achieve 1990 passenger levels again until 2007, largely thanks to sustained ridership growth strategies that added service in order to make transit more attractive and bring riders back.“If we make the mistake of the 1990s and cut service in response to (COVID-19), we will go into what’s called a transit death spiral,” Perks said.Shelagh Pizey-Allen, director of transit advocacy group TTCriders, agreed that leaders will have to resist cutting service and hiking fares even if ridership stays low in the immediate wake of the COVID crisis.“We are worried that there will be a push toward more austerity but we can’t accept big service cuts to the TTC,” she said.“We know that there is demand for better transit across the city.”Leary said the city is unlikely to repeat the mistakes of three decades ago, in part because “people have a better understanding of the importance of public transit today.”Although there are still many unknowns about how the pandemic will play out, Leary said he hopes to return TTC service levels to pre-crisis levels once the emergency has passed.“It is speculative, but I’m going to say yeah, I want to provide what we were providing,” he said.\\n\\n\\n\\n\\n\\n\\n\\nFacebook\\n\\n\\n\\n\\n\\n\\nTwitter\\n\\n\\n\\n\\n\\n\\nWhatsApp\\n\\n\\n\\n\\n\\n\\nSMS\\n\\n\\n\\n\\n\\n\\nEmail\\n\\n\\n\\n\\n\\n\\nPrint\\n\\n\\n\\n\\n\\n\\nCopy article link\\n\\n\\n\\n\\n\\n\\nSave\\n\\n\\n\\n\\n\\n\\n\\n\\n\\n\\n\\n\\n\\n\\n\\n\\n\\nRelated Links\\n\\n\\n\\n Everything you need to know about the coronavirus\\n                                                    \\n\\n\\n\\n How many cases of coronavirus are there in Toronto?\\n                                                    \\n\\n\\n\\n Coronavirus cancellations in Toronto\\n                                                    \\n\\n\\n\\n How Torontonians can stay healthy and informed during COVID-19 pandemic\\n                                                    \\n\\n\\n\\n\\n\\n\\n\\n\\n\\nTags\\n\\nLocal News\\n \\nPolitics\\n \\nOntario\\n \\nToronto_scarborough\\n \\n\\n\\n\\n\\n\\n\\n\\n\\n\\n\\n\\n\\n\\nBen Spurr\\n\\nBen Spurr has been the Toronto Star's transportation reporter since April 2016. He covers public transit, the politics of transportation, road safety, and other related issues\\n\\n\\n\\n\\nAuthor twitter\\n\\n\\n\\n\\n\\n\\n\\nAuthor email\\n\\n\\n\\n\\n\\n\\n\\n\\nRSS Feed\\n\\n\\n\\n\\n\\n\\n\\n\\n\\n\\n\\n\\n\\n\\n\\n\\nReport an error\\n\\n\\nJournalistic Standards\\n\\n\\n\\n\\n\\n\\n\\n\\n                \\n                You might be interested in\\n                \\n            \\n\\n\\n\\n\\n\\n\\n\\n\\n\\n\\n\\n\\n\\n\\n\\n\\n\\n\\n\\nScarborough\\n\\n\\n\\n\\n        \\n\\n        \\n            SCARBOROUGH: here’s what’s going on, Sept. 19 to Oct. 1, 2023\\n\\nUpdated \\n6 hrs ago\\n\\n\\n\\n\\n\\n\\n\\n\\n\\n\\n\\n\\n\\n\\n\\n\\n\\n\\n\\n\\n\\n\\n\\nNorth York\\n\\n\\n\\n\\n        \\n\\n        \\n            NORTH YORK: here’s what’s going on, Sept. 19 to Oct. 1, 2023\\n\\nUpdated \\n8 hrs ago\\n\\n\\n\\n\\n\\n\\n\\n\\n\\n\\n\\n\\n\\n\\n\\n\\n\\n\\n\\n\\n\\n\\n\\nEtobicoke\\n\\n\\n\\n\\n        \\n\\n        \\n            ETOBICOKE: here’s what’s going on, Sept. 19 to Oct. 1, 2023\\n\\nUpdated \\n6 hrs ago\\n\\n\\n\\n\\n\\n\\n\\n\\n\\n\\n\\n\\n.\\n\\n\\n\\n\\n                \\n                Top Stories\\n                \\n            \\n\\n\\n\\n\\n\\n\\n\\n\\n\\n\\n\\n\\n\\n\\n\\n\\n\\n\\n\\n\\n\\nScarborough\\n\\n\\n\\n\\n        \\n\\n        \\n            SCARBOROUGH: here’s what’s going on, Sept. 19 to Oct. 1, 2023\\n\\nUpdated \\n6 hrs ago\\n\\n\\n\\nEvents include Scarborough Players' theatre, fall fest, harvest festival, art fundraiser\\n\\n\\n\\n\\n\\n\\n\\n\\n\\n\\n\\n\\n\\n\\n\\n\\n\\n\\n\\n\\n\\n\\n\\n\\nNorth York\\n\\n\\n\\n\\n        \\n\\n        \\n            NORTH YORK: here’s what’s going on, Sept. 19 to Oct. 1, 2023\\n\\nUpdated \\n8 hrs ago\\n\\n\\n\\n\\n\\n\\n\\n\\n\\n\\n\\n\\n\\n\\n\\n\\n\\n\\n\\n\\n\\nEtobicoke\\n\\n\\n\\n\\n        \\n\\n        \\n            ETOBICOKE: here’s what’s going on, Sept. 19 to Oct. 1, 2023\\n\\nUpdated \\n6 hrs ago\\n\\n\\n\\n\\n\\n\\n\\n\\n\\n\\n\\n\\n\\n\\n\\n\\n\\n\\n\\n\\n\\nNews\\n\\n\\n\\n\\n        \\n\\n        \\n            Year-long Toronto Public Library initiative explores intellectual freedom challenges\\n\\nUpdated \\n10 hrs ago\\n\\n\\n\\n\\n\\n\\n\\n\\n\\n\\n\\n\\n\\n\\n\\n\\n\\n\\n\\n\\n\\nNews\\n\\n\\n\\n\\n        \\n\\n        \\n            Elementary Teachers’ Federation of Ontario's 83K members gathering for strike votes\\n\\nUpdated \\n11 hrs ago\\n\\n\\n\\n\\n\\n\\n\\n\\n\\n\\n\\n\\n\\n\\n\\n\\n\\n\\n\\n\\n\\n\\n\\n\\n\\n\\n\\n\\n\\n\\n\\n\\n\\n\\n\\n\\n\\n\\n\\n\\n\\n\\n\\n\\n\\n\\n\\n\\n\\n\\n                \\n                Helpful Links\\n                \\n            \\n\\n\\n\\nClassifieds\\n\\n\\nDigital Editions\\n\\n\\nMarketplace\\n\\n\\nObituaries\\n\\n\\nSitemap\\n\\n\\nToronto.com Readers Choice\\n\\n\\nMetroland Gives Back\\n\\n\\nWalk-In Clinics\\n\\n\\nMetroland Store\\n\\n\\n\\n\\n\\n                \\n                Connect with us\\n                \\n            \\n\\n\\n\\nAbout Us\\n\\n\\nBecome a Carrier\\n\\n\\nContact Us\\n\\n\\nDelivery Concerns\\n\\n\\nNewsletter Signup\\n\\n\\nFeedback\\n\\n\\nSubmit a Letter\\n\\n\\nSubmit Multimedia\\n\\n\\n\\n\\nContact Information\\n\\n\\n\\nPhone: 1-833-440-7474\\nEmail: newsroom@toronto.com\\n\\n\\n\\n\\n\\n\\n                \\n                Follow Us\\n                \\n            \\n\\n\\n\\n\\n\\nFacebook\\n\\n\\n\\n\\n\\nTwitter\\n\\n\\n\\n\\n\\nInstagram\\n\\n\\n\\n\\n\\n\\n\\n\\n\\n\\n\\n\\n\\n×\\nBrowser Compatibility\\n\\n\\nYour browser is out of date and potentially vulnerable to security risks.We recommend switching to one of the following browsers:\\n\\nMicrosoft Edge\\nGoogle Chrome\\nFirefox\\n\\n\\n\\n\\n\\n\\n\\n\\n\\nCopyright 2023 Toronto Star Newspapers Limited. All Rights Reserved. 8 Spadina Avenue, 10th floor, Toronto, ON M5V 0S8\\nCorporate Privacy Policy | Terms of Use | Advertising Terms | Accessibility\",\n",
       "   'filename': '/Users/kaz/repos/toronto-com-ttcriders-archive/scraper/output/toronto.com/ttc-says-it-s-losing-about-18-million-a-week-in-fares-will-need-bailout.html'},\n",
       "  {'body': 'Skip to main content\\n\\n\\n\\n\\n\\n\\n\\n\\nYou are the owner of this article.\\n\\n Edit Article\\n Add New Article\\nClose\\n\\n\\n\\nYou have permission to edit this article.\\n\\n Edit\\nClose\\n\\n\\n\\n\\n\\n\\n\\n\\nToronto.com\\n\\n\\n\\nHome\\n\\n\\n\\n\\n\\nNews\\n\\n\\nBusiness\\n\\nCouncil\\n\\nCrime\\n\\nMunicipal Election\\n\\nProvincial Election\\n\\nFederal Election\\n\\nBloor West - Parkdale\\n\\nBeach - East York\\n\\nEtobicoke\\n\\nNorth York\\n\\nScarborough\\n\\nYork - City Centre\\n\\nTopics\\n\\n\\n\\n\\nEvents\\n\\n\\nArts\\n\\nAttractions\\n\\nCommunity\\n\\nFestivals and Fairs\\n\\nMusic\\n\\nSeasonal\\n\\nShows and Expos\\n\\nSports\\n\\n\\n\\n\\nThings to Do\\n\\n\\nBooks And Authors\\n\\nContests\\n\\nFood And Drink\\n\\n\\n\\n\\nOpinion\\n\\n\\nAdvice\\n\\nColumns\\n\\nCommunity Voices\\n\\nEditorial\\n\\nLetters\\n\\n\\n\\n\\nLife\\n\\n\\nFashion And Beauty\\n\\nObituaries\\n\\nPersonal Finance\\n\\nReal Estate\\n\\nTravel\\n\\nWellness\\n\\nWheels\\n\\n\\n\\n\\nSpecial Features\\n\\n\\nMarketplace\\n\\nReaders\\' Choice Awards\\n\\nSponsored and Partners\\n\\nClassifieds\\n\\n\\n\\n\\n\\n\\n\\n\\n\\n\\n\\n\\n\\nSite search\\n\\n\\n\\n\\nSearch\\n\\n\\n\\n\\n\\n\\n\\n\\n\\n\\n\\n\\n\\n\\n\\n\\n\\n\\n\\n\\n\\n\\n\\n\\n\\n\\n\\n\\n\\n\\n\\n\\n\\n13°C\\n\\n\\n\\n\\n\\nTuesday, September 19, 2023\\n\\n\\n\\n\\n\\n\\n\\n\\nFacebook\\n\\n\\n\\n\\n\\nTwitter\\n\\n\\n\\n\\n\\nInstagram\\n\\n\\n\\n\\n\\n\\n\\n\\n\\n\\n\\n\\n\\n\\n\\n\\n\\nMenu\\n\\n\\n\\n\\n\\n\\n\\n\\n\\n\\n\\n\\n\\n\\n Toronto.com\\n\\n\\n Home\\n\\n\\nNews\\n\\n\\nBusiness\\n\\n\\nCouncil\\n\\n\\nCrime\\n\\n\\nMunicipal Election\\n\\n\\nProvincial Election\\n\\n\\nFederal Election\\n\\n\\nBloor West - Parkdale\\n\\n\\nBeach - East York\\n\\n\\nEtobicoke\\n\\n\\nNorth York\\n\\n\\nScarborough\\n\\n\\nYork - City Centre\\n\\n\\nTopics\\n\\n\\nEvents\\n\\n\\nArts\\n\\n\\nAttractions\\n\\n\\nCommunity\\n\\n\\nFestivals and Fairs\\n\\n\\nMusic\\n\\n\\nSeasonal\\n\\n\\nShows and Expos\\n\\n\\nSports\\n\\n\\nThings to Do\\n\\n\\nBooks And Authors\\n\\n\\nContests\\n\\n\\nFood And Drink\\n\\n\\nOpinion\\n\\n\\nAdvice\\n\\n\\nColumns\\n\\n\\nCommunity Voices\\n\\n\\nEditorial\\n\\n\\nLetters\\n\\n\\nLife\\n\\n\\nFashion And Beauty\\n\\n\\nObituaries\\n\\n\\nPersonal Finance\\n\\n\\nReal Estate\\n\\n\\nTravel\\n\\n\\nWellness\\n\\n\\nWheels\\n\\n\\nSpecial Features\\n\\n\\nMarketplace\\n\\n\\nReaders\\' Choice Awards\\n\\n\\nSponsored and Partners\\n\\n\\nClassifieds\\n\\n\\n\\n\\n\\nShare This \\n\\n\\n\\n\\n\\nFacebook\\n\\n\\n\\n\\n\\n\\nTwitter\\n\\n\\n\\n\\n\\n\\nWhatsApp\\n\\n\\n\\n\\n\\n\\nSMS\\n\\n\\n\\n\\n\\n\\nEmail\\n\\n\\n\\n\\n\\n\\n\\n\\n\\n\\n\\n\\n\\n\\n\\n\\n\\n\\n\\n\\n\\n\\n\\n\\n\\n\\n\\n\\n\\n\\n\\n\\n\\n\\n\\n\\n\\n\\n\\n\\n\\n\\n\\nScarborough transit users bring \\'COVID-19\\' bus to MPP\\'s office\\n\\n\\nTTCriders\\' protest calls for more bus service, funding\\n\\n\\n\\n\\n                    By Tamara Shephard Toronto.com\\n\\n\\n\\n\\n\\n\\n\\n\\n\\n\\n\\n\\nTamara Shephard\\n\\n\\n\\n\\nAuthor facebook\\n\\n\\n\\n\\n\\n\\n\\nAuthor twitter\\n\\n\\n\\n\\n\\n\\n\\nAuthor email\\n\\n\\n\\n\\n\\n\\n\\n\\nRSS Feed\\n\\n\\n\\n\\n\\n\\n\\n\\n\\n\\n\\n\\n\\n\\n\\n\\n\\n\\n            Sep 13, 2020\\n        \\nSep 13, 2020\\nUpdated \\nMar 25, 2023\\n\\n\\n\\n\\n\\n\\n\\n\\n\\n\\n\\n\\n\\nFacebook\\n\\n\\n\\n\\n\\n\\nTwitter\\n\\n\\n\\n\\n\\n\\nWhatsApp\\n\\n\\n\\n\\n\\n\\nSMS\\n\\n\\n\\n\\n\\n\\nEmail\\n\\n\\n\\n\\n\\n\\n\\n\\n\\n\\n\\n\\n\\n\\n\\n\\nFacebook\\n\\n\\n\\n\\n\\n\\nTwitter\\n\\n\\n\\n\\n\\n\\nWhatsApp\\n\\n\\n\\n\\n\\n\\nSMS\\n\\n\\n\\n\\n\\n\\nEmail\\n\\n\\n\\n\\n\\n\\nPrint\\n\\n\\n\\n\\n\\n\\nCopy article link\\n\\n\\n\\n\\n\\n\\nSave\\n\\n\\n\\n\\n\\n\\n\\n\\n\\n\\n\\n\\n\\n\\n\\nTransit advocates, riders, students and parents protested in a parking lot on Saturday afternoon to demand permanent Ontario government funding to increase bus service in Scarborough.Members of TTCriders, a non-profit transit advocacy organization, and transit users carried placards and brought a cardboard bus, the “COVID-19 East,” to a plaza at Sheppard East and Morningside avenues that houses the offices of MPP Vijay Thanigasalam, parliamentary assistant to Transportation Minister Caroline Mulroney.People carried signs with slogans, including “Scarborough deserves affordable and reliable transit” and “Fix TTC overcrowding!”“Our MPPs must speak up for Scarborough and commit to permanent transit funding and more frequent bus service in our neighbourhoods,” TTCriders rally speaker Austin Jafri said in a statement. “We need more service and more bus lanes to fix crowding before students return to school.”Rally organizers argued that the TTC’s funding model, which relies heavily on the fare box, must be changed and called for permanent provincial transit operations funding.TTC ridership has decreased during the COVID-19 pandemic.This fall, the TTC will receive more than $400 million in emergency funding through the first phase of a federal-provincial COVID-19 aid program.Mayor John Tory said at the time that the funding represents a “very strong down payment” on addressing the transit agency’s pandemic-ravaged finances, the Toronto Star reported\\xa0in August.The initial $404 million earmarked for the TTC won’t immediately cover the entirety of the $700-million shortfall Toronto is projecting for the TTC by the end of the year, the Star reported. TTCriders said in a statement that the Ontario government is \"attaching strings to the second phase of the emergency funding,\" related to Mulroney\\'s statement on Aug. 12 that to receive provincial money to rebuild levels of TTC service, the TTC must first review low-performing bus routes to see whether these could be replaced by micro-transit.TTCriders warned that this plan could result in less say for Toronto transit riders, privatization of bus routes and higher fares for longer trips under the fare-by-distance model.TTCriders had been asking the province to relieve overcrowding before the pandemic began, but COVID-19 made it a public health issue.— With files from Mike Adler and the Toronto Star.\\n\\n\\n\\n\\n\\n\\n\\nFacebook\\n\\n\\n\\n\\n\\n\\nTwitter\\n\\n\\n\\n\\n\\n\\nWhatsApp\\n\\n\\n\\n\\n\\n\\nSMS\\n\\n\\n\\n\\n\\n\\nEmail\\n\\n\\n\\n\\n\\n\\nPrint\\n\\n\\n\\n\\n\\n\\nCopy article link\\n\\n\\n\\n\\n\\n\\nSave\\n\\n\\n\\n\\n\\n\\n\\n\\n\\n\\n\\n\\n\\n\\n\\n\\n\\nRelated Links\\n\\n\\n\\n Family\\'s Gujarati food business in Scarborough a success after 70 years\\n                                                    \\n\\n\\n\\n Ride the \\'COVID-19 East\\'? Group calls crowded Scarborough buses a hazard\\n                                                    \\n\\n\\n\\n Rexall and Providence Healthcare celebrate Grandparents Day\\n                                                    \\n\\n\\n\\n\\n\\n\\n\\n\\n\\nTags\\n\\nToronto_scarborough\\n \\nOntario\\n \\nHyper Local\\n \\n\\n\\n\\n\\n\\n\\n\\n\\n\\n\\n\\n\\n\\nTamara Shephard\\n\\nTamara Shephard is a journalist in Etobicoke reporting hard news, politics and health and human-interest stories. Tamara loves to travel and is a fan of foreign and independent films.\\n\\n\\n\\nAuthor facebook\\n\\n\\n\\n\\n\\n\\n\\nAuthor twitter\\n\\n\\n\\n\\n\\n\\n\\nAuthor email\\n\\n\\n\\n\\n\\n\\n\\n\\nRSS Feed\\n\\n\\n\\n\\n\\n\\n\\n\\n\\n\\n\\n\\n\\n\\n\\n\\nReport an error\\n\\n\\nJournalistic Standards\\n\\n\\n\\n\\n\\n\\n\\n\\n                \\n                You might be interested in\\n                \\n            \\n\\n\\n\\n\\n\\n\\n\\n\\n\\n\\n\\n\\n\\n\\n\\n\\n\\n\\n\\nScarborough\\n\\n\\n\\n\\n        \\n\\n        \\n            SCARBOROUGH: here’s what’s going on, Sept. 19 to Oct. 1, 2023\\n\\nUpdated \\n5 hrs ago\\n\\n\\n\\n\\n\\n\\n\\n\\n\\n\\n\\n\\n\\n\\n\\n\\n\\n\\n\\n\\n\\n\\n\\nNorth York\\n\\n\\n\\n\\n        \\n\\n        \\n            NORTH YORK: here’s what’s going on, Sept. 19 to Oct. 1, 2023\\n\\nUpdated \\n7 hrs ago\\n\\n\\n\\n\\n\\n\\n\\n\\n\\n\\n\\n\\n\\n\\n\\n\\n\\n\\n\\n\\n\\n\\n\\nEtobicoke\\n\\n\\n\\n\\n        \\n\\n        \\n            ETOBICOKE: here’s what’s going on, Sept. 19 to Oct. 1, 2023\\n\\nUpdated \\n5 hrs ago\\n\\n\\n\\n\\n\\n\\n\\n\\n\\n\\n\\n\\n.\\n\\n\\n\\n\\n                \\n                Top Stories\\n                \\n            \\n\\n\\n\\n\\n\\n\\n\\n\\n\\n\\n\\n\\n\\n\\n\\n\\n\\n\\n\\n\\n\\nScarborough\\n\\n\\n\\n\\n        \\n\\n        \\n            SCARBOROUGH: here’s what’s going on, Sept. 19 to Oct. 1, 2023\\n\\nUpdated \\n5 hrs ago\\n\\n\\n\\nEvents include Scarborough Players\\' theatre, fall fest, harvest festival, art fundraiser\\n\\n\\n\\n\\n\\n\\n\\n\\n\\n\\n\\n\\n\\n\\n\\n\\n\\n\\n\\n\\n\\n\\n\\n\\nNorth York\\n\\n\\n\\n\\n        \\n\\n        \\n            NORTH YORK: here’s what’s going on, Sept. 19 to Oct. 1, 2023\\n\\nUpdated \\n7 hrs ago\\n\\n\\n\\n\\n\\n\\n\\n\\n\\n\\n\\n\\n\\n\\n\\n\\n\\n\\n\\n\\n\\nEtobicoke\\n\\n\\n\\n\\n        \\n\\n        \\n            ETOBICOKE: here’s what’s going on, Sept. 19 to Oct. 1, 2023\\n\\nUpdated \\n5 hrs ago\\n\\n\\n\\n\\n\\n\\n\\n\\n\\n\\n\\n\\n\\n\\n\\n\\n\\n\\n\\n\\n\\nNews\\n\\n\\n\\n\\n        \\n\\n        \\n            Year-long Toronto Public Library initiative explores intellectual freedom challenges\\n\\nUpdated \\n9 hrs ago\\n\\n\\n\\n\\n\\n\\n\\n\\n\\n\\n\\n\\n\\n\\n\\n\\n\\n\\n\\n\\n\\nNews\\n\\n\\n\\n\\n        \\n\\n        \\n            Elementary Teachers’ Federation of Ontario\\'s 83K members gathering for strike votes\\n\\nUpdated \\n10 hrs ago\\n\\n\\n\\n\\n\\n\\n\\n\\n\\n\\n\\n\\n\\n\\n\\n\\n\\n\\n\\n\\n\\n\\n\\n\\n\\n\\n\\n\\n\\n\\n\\n\\n\\n\\n\\n\\n\\n\\n\\n\\n\\n\\n\\n\\n\\n\\n\\n\\n\\n\\n                \\n                Helpful Links\\n                \\n            \\n\\n\\n\\nClassifieds\\n\\n\\nDigital Editions\\n\\n\\nMarketplace\\n\\n\\nObituaries\\n\\n\\nSitemap\\n\\n\\nToronto.com Readers Choice\\n\\n\\nMetroland Gives Back\\n\\n\\nWalk-In Clinics\\n\\n\\nMetroland Store\\n\\n\\n\\n\\n\\n                \\n                Connect with us\\n                \\n            \\n\\n\\n\\nAbout Us\\n\\n\\nBecome a Carrier\\n\\n\\nContact Us\\n\\n\\nDelivery Concerns\\n\\n\\nNewsletter Signup\\n\\n\\nFeedback\\n\\n\\nSubmit a Letter\\n\\n\\nSubmit Multimedia\\n\\n\\n\\n\\nContact Information\\n\\n\\n\\nPhone: 1-833-440-7474\\nEmail: newsroom@toronto.com\\n\\n\\n\\n\\n\\n\\n                \\n                Follow Us\\n                \\n            \\n\\n\\n\\n\\n\\nFacebook\\n\\n\\n\\n\\n\\nTwitter\\n\\n\\n\\n\\n\\nInstagram\\n\\n\\n\\n\\n\\n\\n\\n\\n\\n\\n\\n\\n\\n×\\nBrowser Compatibility\\n\\n\\nYour browser is out of date and potentially vulnerable to security risks.We recommend switching to one of the following browsers:\\n\\nMicrosoft Edge\\nGoogle Chrome\\nFirefox\\n\\n\\n\\n\\n\\n\\n\\n\\n\\nCopyright 2023 Toronto Star Newspapers Limited. All Rights Reserved. 8 Spadina Avenue, 10th floor, Toronto, ON M5V 0S8\\nCorporate Privacy Policy | Terms of Use | Advertising Terms | Accessibility',\n",
       "   'filename': '/Users/kaz/repos/toronto-com-ttcriders-archive/scraper/output/toronto.com/scarborough-transit-users-bring-covid-19-bus-to-mpps-office.html'},\n",
       "  {'body': \"Skip to main content\\n\\n\\n\\n\\n\\n\\n\\n\\nYou are the owner of this article.\\n\\n Edit Article\\n Add New Article\\nClose\\n\\n\\n\\nYou have permission to edit this article.\\n\\n Edit\\nClose\\n\\n\\n\\n\\n\\n\\n\\n\\nToronto.com\\n\\n\\n\\nHome\\n\\n\\n\\n\\n\\nNews\\n\\n\\nBusiness\\n\\nCouncil\\n\\nCrime\\n\\nMunicipal Election\\n\\nProvincial Election\\n\\nFederal Election\\n\\nBloor West - Parkdale\\n\\nBeach - East York\\n\\nEtobicoke\\n\\nNorth York\\n\\nScarborough\\n\\nYork - City Centre\\n\\nTopics\\n\\n\\n\\n\\nEvents\\n\\n\\nArts\\n\\nAttractions\\n\\nCommunity\\n\\nFestivals and Fairs\\n\\nMusic\\n\\nSeasonal\\n\\nShows and Expos\\n\\nSports\\n\\n\\n\\n\\nThings to Do\\n\\n\\nBooks And Authors\\n\\nContests\\n\\nFood And Drink\\n\\n\\n\\n\\nOpinion\\n\\n\\nAdvice\\n\\nColumns\\n\\nCommunity Voices\\n\\nEditorial\\n\\nLetters\\n\\n\\n\\n\\nLife\\n\\n\\nFashion And Beauty\\n\\nObituaries\\n\\nPersonal Finance\\n\\nReal Estate\\n\\nTravel\\n\\nWellness\\n\\nWheels\\n\\n\\n\\n\\nSpecial Features\\n\\n\\nMarketplace\\n\\nReaders' Choice Awards\\n\\nSponsored and Partners\\n\\nClassifieds\\n\\n\\n\\n\\n\\n\\n\\n\\n\\n\\n\\n\\n\\nSite search\\n\\n\\n\\n\\nSearch\\n\\n\\n\\n\\n\\n\\n\\n\\n\\n\\n\\n\\n\\n\\n\\n\\n\\n\\n\\n\\n\\n\\n\\n\\n\\n\\n\\n\\n\\n\\n\\n\\n\\n13°C\\n\\n\\n\\n\\n\\nTuesday, September 19, 2023\\n\\n\\n\\n\\n\\n\\n\\n\\nFacebook\\n\\n\\n\\n\\n\\nTwitter\\n\\n\\n\\n\\n\\nInstagram\\n\\n\\n\\n\\n\\n\\n\\n\\n\\n\\n\\n\\n\\n\\n\\n\\n\\nMenu\\n\\n\\n\\n\\n\\n\\n\\n\\n\\n\\n\\n\\n\\n\\n Toronto.com\\n\\n\\n Home\\n\\n\\nNews\\n\\n\\nBusiness\\n\\n\\nCouncil\\n\\n\\nCrime\\n\\n\\nMunicipal Election\\n\\n\\nProvincial Election\\n\\n\\nFederal Election\\n\\n\\nBloor West - Parkdale\\n\\n\\nBeach - East York\\n\\n\\nEtobicoke\\n\\n\\nNorth York\\n\\n\\nScarborough\\n\\n\\nYork - City Centre\\n\\n\\nTopics\\n\\n\\nEvents\\n\\n\\nArts\\n\\n\\nAttractions\\n\\n\\nCommunity\\n\\n\\nFestivals and Fairs\\n\\n\\nMusic\\n\\n\\nSeasonal\\n\\n\\nShows and Expos\\n\\n\\nSports\\n\\n\\nThings to Do\\n\\n\\nBooks And Authors\\n\\n\\nContests\\n\\n\\nFood And Drink\\n\\n\\nOpinion\\n\\n\\nAdvice\\n\\n\\nColumns\\n\\n\\nCommunity Voices\\n\\n\\nEditorial\\n\\n\\nLetters\\n\\n\\nLife\\n\\n\\nFashion And Beauty\\n\\n\\nObituaries\\n\\n\\nPersonal Finance\\n\\n\\nReal Estate\\n\\n\\nTravel\\n\\n\\nWellness\\n\\n\\nWheels\\n\\n\\nSpecial Features\\n\\n\\nMarketplace\\n\\n\\nReaders' Choice Awards\\n\\n\\nSponsored and Partners\\n\\n\\nClassifieds\\n\\n\\n\\n\\n\\nShare This \\n\\n\\n\\n\\n\\nFacebook\\n\\n\\n\\n\\n\\n\\nTwitter\\n\\n\\n\\n\\n\\n\\nWhatsApp\\n\\n\\n\\n\\n\\n\\nSMS\\n\\n\\n\\n\\n\\n\\nEmail\\n\\n\\n\\n\\n\\n\\n\\n\\n\\n\\n\\n\\n\\n\\n\\n\\n\\n\\n\\n\\n\\n\\n\\n\\n\\n\\n\\n\\n\\n\\nClose\\n\\n\\n\\n\\n\\n\\n\\n\\n\\n\\n\\n\\n\\n\\n\\n\\n\\n\\n\\n\\n\\n\\n\\n\\n\\nOlivia Chow couldn't be stopped this time, though Toronto's political establishment still tried: Analysis\\n\\n\\nFormer MP expects 'common ground' with councillors as mayor\\n\\n\\n\\n\\n                    By Mike Adler Toronto.com\\n\\n\\n\\n\\n\\n\\n\\n\\n\\n\\n\\n\\nMike Adler\\n\\n\\n\\n\\n\\nAuthor email\\n\\n\\n\\n\\n\\n\\n\\n\\nRSS Feed\\n\\n\\n\\n\\n\\n\\n\\n\\n\\n\\n\\n\\n\\n\\n\\n\\n\\n\\n            Jun 26, 2023\\n        \\nJun 26, 2023\\nUpdated \\nJun 26, 2023\\n\\n\\n\\n\\n\\n\\n\\n\\n\\n\\n\\n\\n\\nFacebook\\n\\n\\n\\n\\n\\n\\nTwitter\\n\\n\\n\\n\\n\\n\\nWhatsApp\\n\\n\\n\\n\\n\\n\\nSMS\\n\\n\\n\\n\\n\\n\\nEmail\\n\\n\\n\\n\\n\\n\\n\\n\\n\\n\\n\\n\\n\\n\\n\\n\\n\\n\\n\\nFacebook\\n\\n\\n\\n\\n\\n\\nTwitter\\n\\n\\n\\n\\n\\n\\nWhatsApp\\n\\n\\n\\n\\n\\n\\nSMS\\n\\n\\n\\n\\n\\n\\nEmail\\n\\n\\n\\n\\n\\n\\nPrint\\n\\n\\n\\n\\n\\n\\nCopy article link\\n\\n\\n\\n\\n\\n\\nSave\\n\\n\\n\\n\\n\\n\\n\\n\\n\\n\\n\\n\\n\\n\\n\\nAll the power of the established politics that ran Toronto over the past dozen years was brought to bear on Olivia Chow, but it wasn’t enough.Toronto, you have a new mayor, an immigrant in a city half-born outside Canada, a woman who won’t commit to austerity budgets at a time when residents see city services stretched thin and staggering numbers rely on food banks.But can Chow — who pledges not to use strong-mayor powers given by the province — achieve her goals after so many city councillors backed her rival Ana Bailao or ran for mayor themselves?“I am sure there will be common ground for different councillors and I to work together when I am mayor,” the former councillor, school trustee and MP replied in an interview one week before Monday’s byelection.“I have the experience and the temperament to work with everyone that have the same goal, making the city more livable, and I believe that all the councillors want that to happen.”For the entire campaign, other candidates trailed Chow, 66, and painted her as a tax-and-spend New Democrat the city couldn’t afford.That didn’t work.“Fearmongering doesn’t get very far,” said Chow, recalling she came from a family that struggled.“I know what it means for every penny to count, I understand that,” she added after a rally in a Scarborough event centre.“Why would I make life less affordable for residents of Toronto? That’s not who I am.”People are desperate to make ends meet and others — as we saw during the pandemic — want to share, Chow argued.“People are generous. We just need a city that reflects that generosity of spirit.”Chow wasn’t willing to pledge she’d keep property tax increases to the rate of inflation, a bedrock pledge of the Rob Ford and John Tory years.Bailao did. She got endorsements from councillors in the inner suburbs and local Liberal MPs who could reliably push their own supporters to the polls.With days to go, Tory, who resigned under a cloud as mayor in February, also came out for Bailao, which helped narrow Chow’s lead.Both Rob Ford and Tory governed with inner circles composed mainly of councillors from the suburbs — where confidence in city hall is scanty — who held fast to the low-tax-increase rule while grumbling the inner suburbs still weren’t getting their fair share.On Thursday, James Pasternak, a Bailao backer and member of Tory’s executive committee, said his constituents included seniors on fixed incomes who want to keep their homes; many, he said, are nervous about Chow, who has a “downtown orientation” and “high-tax history.”Chow finished behind Tory and Doug Ford in the 2014 mayoral contest, but the arguments used against her then don’t seem as effective in a city where just renting an affordable apartment is impossible for many.Chow aimed to defend renters, promising 25,000 new rent-controlled homes on city land in eight years, a bylaw to deter “renovictions” and a $100-million-a-year fund to buy thousands of affordable units and give them to non-profits. She wants to scale up other supports for renters, including hiring more enforcement officers and contractors to fix unsafe apartment conditions.She wants to open public libraries seven days a week and reverse recent TTC service cuts while generally improving transit service, which brought her support from TTC workers. In Scarborough, Chow aims to build the Eglinton East light rail line and to construct a busway replacing the soon-to-be-mothballed Scarborough Rapid Transit with or without provincial funds, the latter a pledge advocacy group TTCriders noted Bailao didn’t match.Chow’s platform includes raising the Vacant Homes Tax from one to three per cent and raising the Municipal Land Transfer Tax on homes over $3 million.\\n\\n\\n\\n\\n\\n\\n\\n\\n\\n\\n\\n\\n\\n\\n\\n\\nMayoral candidate Olivia Chow takes photos with supporters after a rally at the Nandan Event Centre Monday evening.\\n\\n\\nBy Dan Pearce/Metroland\\n\\n\\n\\nOlivia Chow takes photos with supporters after a rally at the Nandan Event Centre earlier in the campaign period. | Dan Pearce/MetrolandDoug Ford — who decided to cut the number of Toronto councillors almost in half in 2018 and later handed special powers to Tory — will continue to loom over city hall during Chow’s three-year term, seemingly ready to change anything he wants.Outside the pre-election Scarborough rally, Nancy Fu, a woman from Malvern, said she saw Chow as someone to counter Ford, whom she said is trying to make Ontario “like the States.”Torontonians need a new way to run the city, she added, and “I’m hoping (Chow) could be the doorway to it.”Mike MacKenzie, from Scarborough Village, recalled how two people from the neighbourhood died after struggling with mental health issues and addictions. Local people spend up to 80 per cent of income on rent and city property-standard enforcement is lax, seemingly following different rules than downtown, he said.MacKenzie said he believed Chow, as mayor, can help. “If she does not deliver, I would be the first person to go public,” he added.\\n\\n\\n\\n\\n\\n\\n\\nFacebook\\n\\n\\n\\n\\n\\n\\nTwitter\\n\\n\\n\\n\\n\\n\\nWhatsApp\\n\\n\\n\\n\\n\\n\\nSMS\\n\\n\\n\\n\\n\\n\\nEmail\\n\\n\\n\\n\\n\\n\\nPrint\\n\\n\\n\\n\\n\\n\\nCopy article link\\n\\n\\n\\n\\n\\n\\nSave\\n\\n\\n\\n\\n\\n\\n\\n\\n\\n\\n\\n\\n\\n\\n\\n\\n\\nRelated Links\\n\\n\\n\\n 'Low expectations, low hopes': Scarborough and Etobicoke residents distrust Toronto city hall, report finds\\n                                                    \\n\\n\\n\\n Scarborough voters want a Toronto mayor 'who will deliver' on repairs, housing, jobs and transit: Analysis\\n                                                    \\n\\n\\n\\n SCARBOROUGH VOTES: Here's how 7 leading Toronto mayoral contenders answered 6 Scarborough-oriented questions\\n                                                    \\n\\n\\n\\n Toronto mayoral election: Olivia Chow elected mayor in historic vote\\n                                                    \\n\\n\\n\\n\\n\\n\\n\\n\\n\\nTags\\n\\nHyper Local\\n \\nLocal News\\n \\nPolitics\\n \\nOntario\\n \\nToronto_scarborough\\n \\n\\n\\n\\n\\n\\n\\n\\n\\n\\n\\n\\n\\n\\nMike Adler\\n\\nMike Adler is a reporter with toronto.com and Metroland Media Toronto who covers Scarborough and other overlooked parts of Toronto. He worked previously for Metroland in York Region.\\n\\n\\n\\n\\nAuthor email\\n\\n\\n\\n\\n\\n\\n\\n\\nRSS Feed\\n\\n\\n\\n\\n\\n\\n\\n\\n\\n\\n\\n\\n\\n\\n\\n\\nReport an error\\n\\n\\nJournalistic Standards\\n\\n\\n\\n\\n\\n\\n\\n\\n                \\n                You might be interested in\\n                \\n            \\n\\n\\n\\n\\n\\n\\n\\n\\n\\n\\n\\n\\n\\n\\n\\n\\n\\n\\n\\nScarborough\\n\\n\\n\\n\\n        \\n\\n        \\n            SCARBOROUGH: here’s what’s going on, Sept. 19 to Oct. 1, 2023\\n\\nUpdated \\n6 hrs ago\\n\\n\\n\\n\\n\\n\\n\\n\\n\\n\\n\\n\\n\\n\\n\\n\\n\\n\\n\\n\\n\\n\\n\\nNorth York\\n\\n\\n\\n\\n        \\n\\n        \\n            NORTH YORK: here’s what’s going on, Sept. 19 to Oct. 1, 2023\\n\\nUpdated \\n8 hrs ago\\n\\n\\n\\n\\n\\n\\n\\n\\n\\n\\n\\n\\n\\n\\n\\n\\n\\n\\n\\n\\n\\n\\n\\nEtobicoke\\n\\n\\n\\n\\n        \\n\\n        \\n            ETOBICOKE: here’s what’s going on, Sept. 19 to Oct. 1, 2023\\n\\nUpdated \\n6 hrs ago\\n\\n\\n\\n\\n\\n\\n\\n\\n\\n\\n\\n\\n.\\n\\n\\n\\n\\n                \\n                Top Stories\\n                \\n            \\n\\n\\n\\n\\n\\n\\n\\n\\n\\n\\n\\n\\n\\n\\n\\n\\n\\n\\n\\n\\n\\nScarborough\\n\\n\\n\\n\\n        \\n\\n        \\n            SCARBOROUGH: here’s what’s going on, Sept. 19 to Oct. 1, 2023\\n\\nUpdated \\n6 hrs ago\\n\\n\\n\\nEvents include Scarborough Players' theatre, fall fest, harvest festival, art fundraiser\\n\\n\\n\\n\\n\\n\\n\\n\\n\\n\\n\\n\\n\\n\\n\\n\\n\\n\\n\\n\\n\\n\\n\\n\\nNorth York\\n\\n\\n\\n\\n        \\n\\n        \\n            NORTH YORK: here’s what’s going on, Sept. 19 to Oct. 1, 2023\\n\\nUpdated \\n8 hrs ago\\n\\n\\n\\n\\n\\n\\n\\n\\n\\n\\n\\n\\n\\n\\n\\n\\n\\n\\n\\n\\n\\nEtobicoke\\n\\n\\n\\n\\n        \\n\\n        \\n            ETOBICOKE: here’s what’s going on, Sept. 19 to Oct. 1, 2023\\n\\nUpdated \\n6 hrs ago\\n\\n\\n\\n\\n\\n\\n\\n\\n\\n\\n\\n\\n\\n\\n\\n\\n\\n\\n\\n\\n\\nNews\\n\\n\\n\\n\\n        \\n\\n        \\n            Year-long Toronto Public Library initiative explores intellectual freedom challenges\\n\\nUpdated \\n10 hrs ago\\n\\n\\n\\n\\n\\n\\n\\n\\n\\n\\n\\n\\n\\n\\n\\n\\n\\n\\n\\n\\n\\nNews\\n\\n\\n\\n\\n        \\n\\n        \\n            Elementary Teachers’ Federation of Ontario's 83K members gathering for strike votes\\n\\nUpdated \\n11 hrs ago\\n\\n\\n\\n\\n\\n\\n\\n\\n\\n\\n\\n\\n\\n\\n\\n\\n\\n\\n\\n\\n\\n\\n\\n\\n\\n\\n\\n\\n\\n\\n\\n\\n\\n\\n\\n\\n\\n\\n\\n\\n\\n\\n\\n\\n\\n\\n\\n\\n\\n\\n                \\n                Helpful Links\\n                \\n            \\n\\n\\n\\nClassifieds\\n\\n\\nDigital Editions\\n\\n\\nMarketplace\\n\\n\\nObituaries\\n\\n\\nSitemap\\n\\n\\nToronto.com Readers Choice\\n\\n\\nMetroland Gives Back\\n\\n\\nWalk-In Clinics\\n\\n\\nMetroland Store\\n\\n\\n\\n\\n\\n                \\n                Connect with us\\n                \\n            \\n\\n\\n\\nAbout Us\\n\\n\\nBecome a Carrier\\n\\n\\nContact Us\\n\\n\\nDelivery Concerns\\n\\n\\nNewsletter Signup\\n\\n\\nFeedback\\n\\n\\nSubmit a Letter\\n\\n\\nSubmit Multimedia\\n\\n\\n\\n\\nContact Information\\n\\n\\n\\nPhone: 1-833-440-7474\\nEmail: newsroom@toronto.com\\n\\n\\n\\n\\n\\n\\n                \\n                Follow Us\\n                \\n            \\n\\n\\n\\n\\n\\nFacebook\\n\\n\\n\\n\\n\\nTwitter\\n\\n\\n\\n\\n\\nInstagram\\n\\n\\n\\n\\n\\n\\n\\n\\n\\n\\n\\n\\n\\n×\\nBrowser Compatibility\\n\\n\\nYour browser is out of date and potentially vulnerable to security risks.We recommend switching to one of the following browsers:\\n\\nMicrosoft Edge\\nGoogle Chrome\\nFirefox\\n\\n\\n\\n\\n\\n\\n\\n\\n\\nCopyright 2023 Toronto Star Newspapers Limited. All Rights Reserved. 8 Spadina Avenue, 10th floor, Toronto, ON M5V 0S8\\nCorporate Privacy Policy | Terms of Use | Advertising Terms | Accessibility\",\n",
       "   'filename': '/Users/kaz/repos/toronto-com-ttcriders-archive/scraper/output/toronto.com/olivia-chow-couldnt-be-stopped-this-time-though-torontos-political-establishment-still-tried-analysis.html'}]]"
      ]
     },
     "execution_count": 8,
     "metadata": {},
     "output_type": "execute_result"
    }
   ],
   "source": [
    "results['metadatas']\n"
   ]
  },
  {
   "cell_type": "markdown",
   "metadata": {},
   "source": [
    "# Query documents via chat"
   ]
  },
  {
   "cell_type": "code",
   "execution_count": 25,
   "metadata": {},
   "outputs": [
    {
     "name": "stdout",
     "output_type": "stream",
     "text": [
      "\n",
      "Response:\n",
      " Here is the search string in JSON format:\n",
      "```\n",
      "{\n",
      "  \"SEARCH_STRING\": \"date TTC pandemic reduction service operations\"\n",
      "}\n",
      "``` \n",
      "This search string includes keywords such as \"date,\" \"TTC,\" \"pandemic,\" and \"reduction\" to help with the search.\n"
     ]
    }
   ],
   "source": [
    "user_query = {\"USER_QUERY\": \"On what date did the TTC reduce service operations due to the pandemic?\"}\n",
    "\n",
    "prompt_template = f\"\"\"[INST] Please generate a single keyword-based search string in JSON format (with the key \"SEARCH_STRING\") based on the following user query:\n",
    "{json.dumps(user_query)} [INST]\"\"\"\n",
    "\n",
    "response = get_completion(prompt_template, model=\"mistral-7b-instruct-4k\", max_tokens=2000)\n",
    "\n",
    "print(\"\\nResponse:\")\n",
    "print(response)"
   ]
  },
  {
   "cell_type": "code",
   "execution_count": 15,
   "metadata": {},
   "outputs": [
    {
     "data": {
      "text/plain": [
       "str"
      ]
     },
     "execution_count": 15,
     "metadata": {},
     "output_type": "execute_result"
    }
   ],
   "source": [
    "type(response)"
   ]
  },
  {
   "cell_type": "code",
   "execution_count": 41,
   "metadata": {},
   "outputs": [
    {
     "name": "stdout",
     "output_type": "stream",
     "text": [
      "Search results:\n"
     ]
    },
    {
     "data": {
      "text/plain": [
       "[['Transit workers union vows to fight TTC vaccine mandate | News | toronto.com',\n",
       "  'Increased spending authority for TTC CEO opposed by advocacy group, union | News | toronto.com',\n",
       "  'Assessing Access: Can the TTC become fully accessible by 2025? | News | toronto.com',\n",
       "  'TTC fare hikes hurt the poor the most: TTCriders | News | toronto.com',\n",
       "  'Analysis: How can the TTC improve transit service on Dufferin Street? | News | toronto.com']]"
      ]
     },
     "execution_count": 41,
     "metadata": {},
     "output_type": "execute_result"
    }
   ],
   "source": [
    "# Query documents\n",
    "# search_query = json.loads(response[response.index('{'):])\n",
    "# search_query = search_query[\"SEARCH_STRING\"]\n",
    "search_query = \"date TTC pandemic reduction service operations\"\n",
    "\n",
    "results = collection.query(\n",
    "    query_texts=[search_query],\n",
    "    n_results=5,\n",
    ")\n",
    "\n",
    "print(\"Search results:\")\n",
    "results['documents']"
   ]
  },
  {
   "cell_type": "code",
   "execution_count": 43,
   "metadata": {},
   "outputs": [
    {
     "name": "stderr",
     "output_type": "stream",
     "text": [
      "100%|██████████| 5/5 [00:37<00:00,  7.47s/it]"
     ]
    },
    {
     "name": "stdout",
     "output_type": "stream",
     "text": [
      "Prompt:\n",
      "[INST] Using your knowledge and the following 5 documents, please answer the USER_QUERY to the best of your ability if possible. The information is provided below in JSON format.\n",
      "\n",
      "{\"USER_QUERY\": \"On what date did the TTC reduce service operations due to the pandemic?\", \"DOCUMENTS\": [{\"title\": \"Transit workers union vows to fight TTC vaccine mandate | News | toronto.com\", \"summary\": [{\"summary_text\": \"tory \\u201cas of Sept. 13.\\u201d That would differ from the city\\u2019s policy, which would only require employees to provide proof of their vaccination status by that date. City workers won\\u2019t be required to be fully vaccinated until Oct. 30.TTC spokesperson Stuart Green clarified the agency is asking workers for \\u201cproof of vaccination or medical exemption\\u201d by Sept.13. He said the TTC expects its deadline for vaccination will \\u201capproximate\\u201d the city's timelines, but details will be included in a policy document released by the end of the month. The mandate will not have to be approved by the TTC board, and will apply to TTC contractors as well as employees.The\"}]}, {\"title\": \"Increased spending authority for TTC CEO opposed by advocacy group, union | News | toronto.com\", \"summary\": [{\"summary_text\": \"hatsApp\\u25ac\\u25ac\\u25ac\\u25ac\\u25ac\\u25ac\\u00a0\\u00a0\\u00a0\\u00a0\\u00a0\\u00a0\\u00a0\\u00a0\\u00a0\\u00a0\\u00a0\\u00a0\\u00a0\\u00a0\\u00a0\\u00a0\\u00a0\\u00a0\\u00a0\\u00a0\\u00a0\\u00a0\\u00a0\\u00a0\\u00a0\\u00a0\\u00a0\\u00a0\\u00a0\\u00a0\\u00a0\\u00a0\\u00a0\\u00a0\\u00a0\\u00a0\\u00a0\\u00a0\\u00a0\\u00a0\\u25fc\\u25fcTextColorTextColorTextColor\\u25ac\\u25ac\\u25ac\\u25ac\\u25ac\\u25ac\\u25acAccessoryTextColorSharedSharingSharingPatients, employees facing more violent incidents.Sharing Patience\\u25acAccessoryAccessoryTextColorTextColorSharing PalestinTextColorTextColorAccessoryAccessorySharedPatiencePatienceShared:Sharing: SharingPatienceTextColorTextColorBuyableTextColorTextColor\\u25acShared:{\\u25ac\\u25ac warr warr warrTextColor\\u25ac\\u25ac\\u25ac\\u25ac\\u25ac;;;;;;;;;;;;\\u25ac\\u25ac\\u25ac\\u25acTextColor\\u25ac\\u25acTextColorTextColor TTC riders, employees faced more violent than ever.sharing Patients\\u25ac\\u25ac\\u25acTextColorTextColor    d   ch  \\ufffd  \\u00c2  ________________________________________________________________________________________________________________________________======Shared Patience, SharedPatientsSharedpatience, employees\"}]}, {\"title\": \"Assessing Access: Can the TTC become fully accessible by 2025? | News | toronto.com\", \"summary\": [{\"summary_text\": \"Applicants who applied for Wheel-Trans before Jan. 1, 2017 will have to reapply and be streamlined into three categories \\u2014 unconditional, conditional and temporary.People in the unconditional category have a disability that prevents them from using conventional transit.People who qualify for temporary service require specialized transit for a defined period of time, but may also qualify for specialized transit under specific circumstances.The TTC touts the FOS model as necessary to meet ridership growth and demand in a \\u201csustainable manner\\u201d and to comply with the AODA requirement that Ontario be fully accessible to people with disabilities.It claims the conditional categories will free up vehicles to serve more riders who need a higher level of service.Further, according to the\"}]}, {\"title\": \"TTC fare hikes hurt the poor the most: TTCriders | News | toronto.com\", \"summary\": [{\"summary_text\": \", including restoring the annual vehicle registration tax repealed by Rob Ford in 2011, so as not to continue to burden low-income transit users with regular fare increases.\\u201cWhat we know is the most regressive and unfair way to pay for public transit is through fare hikes,\\u201d she said. \\u201cIt hurts the poor the most.\\u201d\\u25ac@@@@@@@@@@@@@@@@@@@@@@@@ warr warr@@@@@@@@@@@@@@@@\\u25ac\\u25ac@@@@@@@@@@@@@@@@@@@@@@@@@@@@@@@@@@@@\\u25ac\\u25ac\\u25ac\\u25ac\\u25ac\\u25ac\\u25ac\\u25ac\\u25ac\\u25ac\\u25ac\\u25ac\\u25ac@@@@@@@@\\u25ac\\u25ac\\u25ac@@@@@@@@@@@@@@@@@@@@@@@@@@@@\\u25ac\\u25ac\\u25ac\\u25ac@@@@@@@@@@@@\\u25ac\\u25ac\\u25ac\\u25ac@@@@@@@@\\u25ac@@@@@@@@\\u25ac@@@@@@@@\\u25ac\\u25ac\\u25ac@@@@@@@@@@@@@@@@\\u25ac\\u25ac warr\\u25ac\\u25ac\\u25acSharing a screenshot of the article in the comment section of the post.Sharing an error in the article\"}]}, {\"title\": \"Analysis: How can the TTC improve transit service on Dufferin Street? | News | toronto.com\", \"summary\": [{\"summary_text\": \"Puhakka says it\\u2019s time to eliminate bus lanes altogether.The effect, he says, is a long-term solution to endemic overcrowding and other issues, since buses will have less traffic to contend with, allowing for more frequent and reliable service.Puhkka envisions a significant improvement to transit service if the city and the TTC create a transit right-of-way similar to what happened for King Street, where the removal of regular car traffic from the path of streetcars resulted in 25-per-cent more riders per hour.\\u00a0\\u201cMaking Dufferin a transit-priority route would help unclog the system,\\u201d said Puhakke during an interview last week. \\ufffd\"}]}]}\n",
      "[/INST]\n",
      "\n"
     ]
    },
    {
     "name": "stderr",
     "output_type": "stream",
     "text": [
      "\n"
     ]
    }
   ],
   "source": [
    "search_documents = []\n",
    "for i in tqdm(range(5)):\n",
    "    document = {\n",
    "        \"title\": results['documents'][0][i],\n",
    "        # \"body\": results['metadatas'][0][i]['body']\n",
    "        \"summary\": summarizer(results['metadatas'][0][i]['body'][5000:6024], max_length=150, min_length=30, do_sample=True)\n",
    "    }\n",
    "    search_documents.append(document)\n",
    "\n",
    "prompt_json = {\n",
    "    \"USER_QUERY\": user_query[\"USER_QUERY\"],\n",
    "    \"DOCUMENTS\": search_documents\n",
    "}\n",
    "\n",
    "prompt_template = \\\n",
    "f'''[INST] Using your knowledge and the following 5 documents, please answer the USER_QUERY to the best of your ability if possible. The information is provided below in JSON format.\n",
    "\n",
    "{json.dumps(prompt_json)}\n",
    "[/INST]\n",
    "'''\n",
    "\n",
    "print(\"Prompt:\")\n",
    "print(prompt_template)"
   ]
  },
  {
   "cell_type": "code",
   "execution_count": 45,
   "metadata": {},
   "outputs": [
    {
     "name": "stdout",
     "output_type": "stream",
     "text": [
      "\n",
      "Response:\n",
      "\n",
      "The Transit workers union vows to fight TTC vaccine mandate, as reported by the Toronto Star, announced a deadline for workers to provide proof of vaccination or medical exemption by Sept. 13, which is before the city's policy of requiring employees to provide proof of their vaccination status. While this date may vary, it is important to note that the TTC's decision to reduce service operations due to the pandemic was not mentioned in any of the available documents.\n",
      "\n",
      "If you have any further questions or if there is anything else I can be of assistance with, please let me know.\n"
     ]
    }
   ],
   "source": [
    "response = get_completion(prompt_template, model=\"mistral-7b-instruct-4k\", max_tokens=2000)\n",
    "\n",
    "print(\"\\nResponse:\")\n",
    "print(response)"
   ]
  },
  {
   "cell_type": "code",
   "execution_count": null,
   "metadata": {},
   "outputs": [],
   "source": []
  }
 ],
 "metadata": {
  "kernelspec": {
   "display_name": ".venv",
   "language": "python",
   "name": "python3"
  },
  "language_info": {
   "codemirror_mode": {
    "name": "ipython",
    "version": 3
   },
   "file_extension": ".py",
   "mimetype": "text/x-python",
   "name": "python",
   "nbconvert_exporter": "python",
   "pygments_lexer": "ipython3",
   "version": "3.10.13"
  }
 },
 "nbformat": 4,
 "nbformat_minor": 2
}
